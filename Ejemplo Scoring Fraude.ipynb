{
 "cells": [
  {
   "cell_type": "markdown",
   "id": "unexpected-delhi",
   "metadata": {},
   "source": [
    "## Dependencias"
   ]
  },
  {
   "cell_type": "code",
   "execution_count": 1,
   "id": "narrative-offering",
   "metadata": {
    "ExecuteTime": {
     "end_time": "2021-03-20T14:24:54.427495Z",
     "start_time": "2021-03-20T14:24:43.900613Z"
    }
   },
   "outputs": [],
   "source": [
    "import numpy as np\n",
    "import pandas as pd\n",
    "import matplotlib.pyplot as plt\n",
    "import seaborn as sns\n",
    "from datetime import datetime,date\n",
    "from sklearn.preprocessing import KBinsDiscretizer\n",
    "from sklearn.model_selection import train_test_split\n",
    "from scikitplot.metrics import plot_roc_curve\n",
    "from sklearn.linear_model import LogisticRegression\n",
    "import warnings\n",
    "warnings.filterwarnings('ignore')\n",
    "pd.set_option('display.max_columns',100)"
   ]
  },
  {
   "cell_type": "markdown",
   "id": "current-testament",
   "metadata": {},
   "source": [
    "## Lectura de datos"
   ]
  },
  {
   "cell_type": "code",
   "execution_count": 2,
   "id": "proof-fairy",
   "metadata": {
    "ExecuteTime": {
     "end_time": "2021-03-20T14:25:02.112598Z",
     "start_time": "2021-03-20T14:24:54.428607Z"
    }
   },
   "outputs": [
    {
     "data": {
      "text/plain": [
       "(10000, 23)"
      ]
     },
     "execution_count": 2,
     "metadata": {},
     "output_type": "execute_result"
    }
   ],
   "source": [
    "df = pd.read_csv('/home/jose/Documentos/bd/cc_fraud/fraudTrain.csv').rename(columns={'Unnamed: 0':'ID'}).sample(10000).reset_index(drop=True)\n",
    "df['trans_date_trans_time'] = pd.to_datetime(df['trans_date_trans_time'])\n",
    "df.shape"
   ]
  },
  {
   "cell_type": "code",
   "execution_count": 3,
   "id": "hidden-shanghai",
   "metadata": {
    "ExecuteTime": {
     "end_time": "2021-03-20T14:25:02.427137Z",
     "start_time": "2021-03-20T14:25:02.113822Z"
    }
   },
   "outputs": [
    {
     "data": {
      "text/html": [
       "<div>\n",
       "<style scoped>\n",
       "    .dataframe tbody tr th:only-of-type {\n",
       "        vertical-align: middle;\n",
       "    }\n",
       "\n",
       "    .dataframe tbody tr th {\n",
       "        vertical-align: top;\n",
       "    }\n",
       "\n",
       "    .dataframe thead th {\n",
       "        text-align: right;\n",
       "    }\n",
       "</style>\n",
       "<table border=\"1\" class=\"dataframe\">\n",
       "  <thead>\n",
       "    <tr style=\"text-align: right;\">\n",
       "      <th></th>\n",
       "      <th>ID</th>\n",
       "      <th>trans_date_trans_time</th>\n",
       "      <th>cc_num</th>\n",
       "      <th>merchant</th>\n",
       "      <th>category</th>\n",
       "      <th>amt</th>\n",
       "      <th>first</th>\n",
       "      <th>last</th>\n",
       "      <th>gender</th>\n",
       "      <th>street</th>\n",
       "      <th>city</th>\n",
       "      <th>state</th>\n",
       "      <th>zip</th>\n",
       "      <th>lat</th>\n",
       "      <th>long</th>\n",
       "      <th>city_pop</th>\n",
       "      <th>job</th>\n",
       "      <th>dob</th>\n",
       "      <th>trans_num</th>\n",
       "      <th>unix_time</th>\n",
       "      <th>merch_lat</th>\n",
       "      <th>merch_long</th>\n",
       "      <th>is_fraud</th>\n",
       "    </tr>\n",
       "  </thead>\n",
       "  <tbody>\n",
       "    <tr>\n",
       "      <th>0</th>\n",
       "      <td>707705</td>\n",
       "      <td>2019-10-28 20:04:46</td>\n",
       "      <td>3596357274378601</td>\n",
       "      <td>fraud_Wiza, Schaden and Stark</td>\n",
       "      <td>misc_pos</td>\n",
       "      <td>20.29</td>\n",
       "      <td>David</td>\n",
       "      <td>Everett</td>\n",
       "      <td>M</td>\n",
       "      <td>4138 David Fall</td>\n",
       "      <td>Morrisdale</td>\n",
       "      <td>PA</td>\n",
       "      <td>16858</td>\n",
       "      <td>41.0001</td>\n",
       "      <td>-78.2357</td>\n",
       "      <td>3688</td>\n",
       "      <td>Advice worker</td>\n",
       "      <td>1973-05-27</td>\n",
       "      <td>a9b82dcae074f7fd21885d1e4f5b4d20</td>\n",
       "      <td>1351454686</td>\n",
       "      <td>41.152394</td>\n",
       "      <td>-77.767643</td>\n",
       "      <td>0</td>\n",
       "    </tr>\n",
       "    <tr>\n",
       "      <th>1</th>\n",
       "      <td>640104</td>\n",
       "      <td>2019-09-29 15:17:05</td>\n",
       "      <td>3543591270174051</td>\n",
       "      <td>fraud_McDermott, Osinski and Morar</td>\n",
       "      <td>home</td>\n",
       "      <td>24.71</td>\n",
       "      <td>Margaret</td>\n",
       "      <td>Lam</td>\n",
       "      <td>F</td>\n",
       "      <td>6911 Nicholas Keys Apt. 237</td>\n",
       "      <td>Armagh</td>\n",
       "      <td>PA</td>\n",
       "      <td>15920</td>\n",
       "      <td>40.4603</td>\n",
       "      <td>-79.0097</td>\n",
       "      <td>922</td>\n",
       "      <td>Early years teacher</td>\n",
       "      <td>1972-10-04</td>\n",
       "      <td>a38ce25727f70b04a1dcff1d10fed675</td>\n",
       "      <td>1348931825</td>\n",
       "      <td>39.607476</td>\n",
       "      <td>-78.779500</td>\n",
       "      <td>0</td>\n",
       "    </tr>\n",
       "  </tbody>\n",
       "</table>\n",
       "</div>"
      ],
      "text/plain": [
       "       ID trans_date_trans_time            cc_num  \\\n",
       "0  707705   2019-10-28 20:04:46  3596357274378601   \n",
       "1  640104   2019-09-29 15:17:05  3543591270174051   \n",
       "\n",
       "                             merchant  category    amt     first     last  \\\n",
       "0       fraud_Wiza, Schaden and Stark  misc_pos  20.29     David  Everett   \n",
       "1  fraud_McDermott, Osinski and Morar      home  24.71  Margaret      Lam   \n",
       "\n",
       "  gender                       street        city state    zip      lat  \\\n",
       "0      M              4138 David Fall  Morrisdale    PA  16858  41.0001   \n",
       "1      F  6911 Nicholas Keys Apt. 237      Armagh    PA  15920  40.4603   \n",
       "\n",
       "      long  city_pop                  job         dob  \\\n",
       "0 -78.2357      3688        Advice worker  1973-05-27   \n",
       "1 -79.0097       922  Early years teacher  1972-10-04   \n",
       "\n",
       "                          trans_num   unix_time  merch_lat  merch_long  \\\n",
       "0  a9b82dcae074f7fd21885d1e4f5b4d20  1351454686  41.152394  -77.767643   \n",
       "1  a38ce25727f70b04a1dcff1d10fed675  1348931825  39.607476  -78.779500   \n",
       "\n",
       "   is_fraud  \n",
       "0         0  \n",
       "1         0  "
      ]
     },
     "execution_count": 3,
     "metadata": {},
     "output_type": "execute_result"
    }
   ],
   "source": [
    "df.head(2)"
   ]
  },
  {
   "cell_type": "markdown",
   "id": "backed-petroleum",
   "metadata": {},
   "source": [
    "### Pretratamiento"
   ]
  },
  {
   "cell_type": "code",
   "execution_count": 4,
   "id": "tight-sociology",
   "metadata": {
    "ExecuteTime": {
     "end_time": "2021-03-20T14:25:02.716365Z",
     "start_time": "2021-03-20T14:25:02.428971Z"
    }
   },
   "outputs": [],
   "source": [
    "df['hour'] = df['trans_date_trans_time'].map(lambda x:int(x.strftime('%H')))\n",
    "df['weekday'] = df['trans_date_trans_time'].map(lambda x:x.weekday())\n",
    "df['month'] = df['trans_date_trans_time'].map(lambda x:x.month)\n",
    "\n",
    "df['weekday'] = df['weekday'].map(dict(zip(range(7),'LMXJVSD')))\n",
    "\n",
    "df['age'] = (df['trans_date_trans_time']-pd.to_datetime(df['dob']))/np.timedelta64(1,'Y')"
   ]
  },
  {
   "cell_type": "markdown",
   "id": "available-rabbit",
   "metadata": {},
   "source": [
    "## Selección de variables"
   ]
  },
  {
   "cell_type": "code",
   "execution_count": 5,
   "id": "cardiac-junior",
   "metadata": {
    "ExecuteTime": {
     "end_time": "2021-03-20T14:25:02.722581Z",
     "start_time": "2021-03-20T14:25:02.719016Z"
    }
   },
   "outputs": [],
   "source": [
    "um = ['ID']\n",
    "vard = ['merchant','category','gender','city','state','zip','job','weekday','month']\n",
    "varc = ['amt','lat','long','age','merch_lat','merch_long','hour']\n",
    "tgt = 'is_fraud'"
   ]
  },
  {
   "cell_type": "markdown",
   "id": "diverse-andorra",
   "metadata": {},
   "source": [
    "## Análisis Exploratorio de Datos"
   ]
  },
  {
   "cell_type": "markdown",
   "id": "coastal-retailer",
   "metadata": {},
   "source": [
    "### Discreto"
   ]
  },
  {
   "cell_type": "markdown",
   "id": "caroline-sheffield",
   "metadata": {},
   "source": [
    "#### Frecuencias"
   ]
  },
  {
   "cell_type": "code",
   "execution_count": 6,
   "id": "armed-corpus",
   "metadata": {
    "ExecuteTime": {
     "end_time": "2021-03-20T14:25:02.831690Z",
     "start_time": "2021-03-20T14:25:02.724630Z"
    }
   },
   "outputs": [],
   "source": [
    "def freq(df,var):\n",
    "    if type(var)!=list:\n",
    "        var = [var]\n",
    "    for v in var:\n",
    "        aux = df[v].value_counts().to_frame().rename(columns={v:'FA'})\n",
    "        aux['FR'] = aux['FA']/aux['FA'].sum()\n",
    "        aux[['FAA','FRA']] = aux.apply(np.cumsum)\n",
    "        print(\"Tabla de frecuencias para la variable **\",v,\"**\",\"\\n\"*2)\n",
    "        print(aux,\"\\n\"*2)\n"
   ]
  },
  {
   "cell_type": "code",
   "execution_count": 7,
   "id": "biological-finding",
   "metadata": {
    "ExecuteTime": {
     "end_time": "2021-03-20T14:25:03.225306Z",
     "start_time": "2021-03-20T14:25:02.833632Z"
    }
   },
   "outputs": [
    {
     "name": "stdout",
     "output_type": "stream",
     "text": [
      "Tabla de frecuencias para la variable ** merchant ** \n",
      "\n",
      "\n",
      "                                       FA      FR    FAA     FRA\n",
      "fraud_Kilback LLC                      43  0.0043     43  0.0043\n",
      "fraud_Goodwin-Nitzsche                 34  0.0034     77  0.0077\n",
      "fraud_Boyer PLC                        31  0.0031    108  0.0108\n",
      "fraud_Streich, Hansen and Veum         31  0.0031    139  0.0139\n",
      "fraud_Kuhn LLC                         30  0.0030    169  0.0169\n",
      "...                                    ..     ...    ...     ...\n",
      "fraud_Ritchie, Oberbrunner and Cremin   3  0.0003   9992  0.9992\n",
      "fraud_Funk Group                        2  0.0002   9994  0.9994\n",
      "fraud_Smitham-Schiller                  2  0.0002   9996  0.9996\n",
      "fraud_Schroeder, Wolff and Hermiston    2  0.0002   9998  0.9998\n",
      "fraud_Hills-Olson                       2  0.0002  10000  1.0000\n",
      "\n",
      "[693 rows x 4 columns] \n",
      "\n",
      "\n",
      "Tabla de frecuencias para la variable ** category ** \n",
      "\n",
      "\n",
      "                  FA      FR    FAA     FRA\n",
      "gas_transport   1028  0.1028   1028  0.1028\n",
      "home             994  0.0994   2022  0.2022\n",
      "grocery_pos      990  0.0990   3012  0.3012\n",
      "kids_pets        909  0.0909   3921  0.3921\n",
      "shopping_pos     852  0.0852   4773  0.4773\n",
      "shopping_net     757  0.0757   5530  0.5530\n",
      "food_dining      690  0.0690   6220  0.6220\n",
      "entertainment    684  0.0684   6904  0.6904\n",
      "personal_care    679  0.0679   7583  0.7583\n",
      "health_fitness   656  0.0656   8239  0.8239\n",
      "misc_pos         618  0.0618   8857  0.8857\n",
      "misc_net         500  0.0500   9357  0.9357\n",
      "grocery_net      323  0.0323   9680  0.9680\n",
      "travel           320  0.0320  10000  1.0000 \n",
      "\n",
      "\n",
      "Tabla de frecuencias para la variable ** gender ** \n",
      "\n",
      "\n",
      "     FA      FR    FAA     FRA\n",
      "F  5464  0.5464   5464  0.5464\n",
      "M  4536  0.4536  10000  1.0000 \n",
      "\n",
      "\n",
      "Tabla de frecuencias para la variable ** city ** \n",
      "\n",
      "\n",
      "              FA      FR    FAA     FRA\n",
      "Meridian      47  0.0047     47  0.0047\n",
      "San Antonio   44  0.0044     91  0.0091\n",
      "Birmingham    40  0.0040    131  0.0131\n",
      "Phoenix       39  0.0039    170  0.0170\n",
      "Fulton        39  0.0039    209  0.0209\n",
      "...           ..     ...    ...     ...\n",
      "Broomfield     1  0.0001   9996  0.9996\n",
      "Gainesville    1  0.0001   9997  0.9997\n",
      "Mount Vernon   1  0.0001   9998  0.9998\n",
      "Boulder        1  0.0001   9999  0.9999\n",
      "Chatham        1  0.0001  10000  1.0000\n",
      "\n",
      "[833 rows x 4 columns] \n",
      "\n",
      "\n",
      "Tabla de frecuencias para la variable ** state ** \n",
      "\n",
      "\n",
      "     FA      FR    FAA     FRA\n",
      "TX  741  0.0741    741  0.0741\n",
      "NY  628  0.0628   1369  0.1369\n",
      "PA  618  0.0618   1987  0.1987\n",
      "CA  427  0.0427   2414  0.2414\n",
      "MI  381  0.0381   2795  0.2795\n",
      "OH  366  0.0366   3161  0.3161\n",
      "FL  320  0.0320   3481  0.3481\n",
      "MO  308  0.0308   3789  0.3789\n",
      "IL  308  0.0308   4097  0.4097\n",
      "AL  300  0.0300   4397  0.4397\n",
      "AR  251  0.0251   4648  0.4648\n",
      "WI  246  0.0246   4894  0.4894\n",
      "MN  242  0.0242   5136  0.5136\n",
      "KY  229  0.0229   5365  0.5365\n",
      "MD  226  0.0226   5591  0.5591\n",
      "VA  225  0.0225   5816  0.5816\n",
      "SC  221  0.0221   6037  0.6037\n",
      "NC  214  0.0214   6251  0.6251\n",
      "OK  211  0.0211   6462  0.6462\n",
      "IA  210  0.0210   6672  0.6672\n",
      "NJ  209  0.0209   6881  0.6881\n",
      "NE  201  0.0201   7082  0.7082\n",
      "GA  193  0.0193   7275  0.7275\n",
      "IN  192  0.0192   7467  0.7467\n",
      "KS  188  0.0188   7655  0.7655\n",
      "WV  187  0.0187   7842  0.7842\n",
      "LA  183  0.0183   8025  0.8025\n",
      "WY  165  0.0165   8190  0.8190\n",
      "MS  156  0.0156   8346  0.8346\n",
      "WA  152  0.0152   8498  0.8498\n",
      "NM  132  0.0132   8630  0.8630\n",
      "OR  127  0.0127   8757  0.8757\n",
      "TN  119  0.0119   8876  0.8876\n",
      "ME  107  0.0107   8983  0.8983\n",
      "CO  102  0.0102   9085  0.9085\n",
      "ND  102  0.0102   9187  0.9187\n",
      "VT   97  0.0097   9284  0.9284\n",
      "MA   93  0.0093   9377  0.9377\n",
      "AZ   88  0.0088   9465  0.9465\n",
      "SD   87  0.0087   9552  0.9552\n",
      "UT   84  0.0084   9636  0.9636\n",
      "MT   75  0.0075   9711  0.9711\n",
      "NH   63  0.0063   9774  0.9774\n",
      "CT   53  0.0053   9827  0.9827\n",
      "ID   50  0.0050   9877  0.9877\n",
      "NV   45  0.0045   9922  0.9922\n",
      "DC   33  0.0033   9955  0.9955\n",
      "HI   27  0.0027   9982  0.9982\n",
      "AK   15  0.0015   9997  0.9997\n",
      "RI    3  0.0003  10000  1.0000 \n",
      "\n",
      "\n",
      "Tabla de frecuencias para la variable ** zip ** \n",
      "\n",
      "\n",
      "       FA      FR    FAA     FRA\n",
      "98027  36  0.0036     36  0.0036\n",
      "70808  34  0.0034     70  0.0070\n",
      "66018  33  0.0033    103  0.0103\n",
      "71960  32  0.0032    135  0.0135\n",
      "49854  31  0.0031    166  0.0166\n",
      "...    ..     ...    ...     ...\n",
      "62266   1  0.0001   9996  0.9996\n",
      "10553   1  0.0001   9997  0.9997\n",
      "47869   1  0.0001   9998  0.9998\n",
      "76631   1  0.0001   9999  0.9999\n",
      "70447   1  0.0001  10000  1.0000\n",
      "\n",
      "[893 rows x 4 columns] \n",
      "\n",
      "\n",
      "Tabla de frecuencias para la variable ** job ** \n",
      "\n",
      "\n",
      "                          FA      FR    FAA     FRA\n",
      "Exhibition designer       78  0.0078     78  0.0078\n",
      "Surveyor, land/geomatics  78  0.0078    156  0.0156\n",
      "Film/video editor         71  0.0071    227  0.0227\n",
      "Magazine features editor  69  0.0069    296  0.0296\n",
      "Agricultural consultant   68  0.0068    364  0.0364\n",
      "...                       ..     ...    ...     ...\n",
      "Water quality scientist    2  0.0002   9995  0.9995\n",
      "Artist                     2  0.0002   9997  0.9997\n",
      "Magazine journalist        1  0.0001   9998  0.9998\n",
      "Engineer, manufacturing    1  0.0001   9999  0.9999\n",
      "Art gallery manager        1  0.0001  10000  1.0000\n",
      "\n",
      "[473 rows x 4 columns] \n",
      "\n",
      "\n",
      "Tabla de frecuencias para la variable ** weekday ** \n",
      "\n",
      "\n",
      "     FA      FR    FAA     FRA\n",
      "L  1977  0.1977   1977  0.1977\n",
      "D  1965  0.1965   3942  0.3942\n",
      "S  1542  0.1542   5484  0.5484\n",
      "M  1231  0.1231   6715  0.6715\n",
      "V  1168  0.1168   7883  0.7883\n",
      "J  1120  0.1120   9003  0.9003\n",
      "X   997  0.0997  10000  1.0000 \n",
      "\n",
      "\n",
      "Tabla de frecuencias para la variable ** month ** \n",
      "\n",
      "\n",
      "      FA      FR    FAA     FRA\n",
      "3   1119  0.1119   1119  0.1119\n",
      "6   1108  0.1108   2227  0.2227\n",
      "5   1104  0.1104   3331  0.3331\n",
      "12  1088  0.1088   4419  0.4419\n",
      "4   1048  0.1048   5467  0.5467\n",
      "1    801  0.0801   6268  0.6268\n",
      "2    728  0.0728   6996  0.6996\n",
      "8    668  0.0668   7664  0.7664\n",
      "7    648  0.0648   8312  0.8312\n",
      "11   583  0.0583   8895  0.8895\n",
      "10   565  0.0565   9460  0.9460\n",
      "9    540  0.0540  10000  1.0000 \n",
      "\n",
      "\n"
     ]
    }
   ],
   "source": [
    "freq(df,vard)"
   ]
  },
  {
   "cell_type": "markdown",
   "id": "decreased-sword",
   "metadata": {},
   "source": [
    "#### Normalización"
   ]
  },
  {
   "cell_type": "code",
   "execution_count": 8,
   "id": "other-cooking",
   "metadata": {
    "ExecuteTime": {
     "end_time": "2021-03-20T14:25:03.230320Z",
     "start_time": "2021-03-20T14:25:03.226850Z"
    }
   },
   "outputs": [],
   "source": [
    "def normalizar(df,v,umbral=0.05):\n",
    "    aux = df[v].value_counts(True).to_frame()\n",
    "    aux[f'n_{v}'] = np.where(aux[v]<umbral,'SMALL CATEGORIES',aux.index)\n",
    "    moda = aux.head(1)[f'n_{v}'].values[0]\n",
    "    if aux.loc[aux[f'n_{v}']=='SMALL CATEGORIES'][v].sum()<umbral:\n",
    "        aux[f'n_{v}'].replace({'SMALL CATEGORIES':moda},inplace=True)\n",
    "    aux.drop(v,axis=1,inplace=True)\n",
    "    aux.reset_index(inplace=True)\n",
    "    return df.merge(aux,left_on=v,right_on='index',how='inner').drop('index',axis=1)"
   ]
  },
  {
   "cell_type": "code",
   "execution_count": 9,
   "id": "selected-people",
   "metadata": {
    "ExecuteTime": {
     "end_time": "2021-03-20T14:25:03.925328Z",
     "start_time": "2021-03-20T14:25:03.232234Z"
    }
   },
   "outputs": [],
   "source": [
    "for v in vard:\n",
    "    df = normalizar(df,v)"
   ]
  },
  {
   "cell_type": "code",
   "execution_count": 10,
   "id": "concrete-botswana",
   "metadata": {
    "ExecuteTime": {
     "end_time": "2021-03-20T14:25:03.945477Z",
     "start_time": "2021-03-20T14:25:03.926954Z"
    }
   },
   "outputs": [
    {
     "data": {
      "text/html": [
       "<div>\n",
       "<style scoped>\n",
       "    .dataframe tbody tr th:only-of-type {\n",
       "        vertical-align: middle;\n",
       "    }\n",
       "\n",
       "    .dataframe tbody tr th {\n",
       "        vertical-align: top;\n",
       "    }\n",
       "\n",
       "    .dataframe thead th {\n",
       "        text-align: right;\n",
       "    }\n",
       "</style>\n",
       "<table border=\"1\" class=\"dataframe\">\n",
       "  <thead>\n",
       "    <tr style=\"text-align: right;\">\n",
       "      <th></th>\n",
       "      <th>ID</th>\n",
       "      <th>trans_date_trans_time</th>\n",
       "      <th>cc_num</th>\n",
       "      <th>merchant</th>\n",
       "      <th>category</th>\n",
       "      <th>amt</th>\n",
       "      <th>first</th>\n",
       "      <th>last</th>\n",
       "      <th>gender</th>\n",
       "      <th>street</th>\n",
       "      <th>city</th>\n",
       "      <th>state</th>\n",
       "      <th>zip</th>\n",
       "      <th>lat</th>\n",
       "      <th>long</th>\n",
       "      <th>city_pop</th>\n",
       "      <th>job</th>\n",
       "      <th>dob</th>\n",
       "      <th>trans_num</th>\n",
       "      <th>unix_time</th>\n",
       "      <th>merch_lat</th>\n",
       "      <th>merch_long</th>\n",
       "      <th>is_fraud</th>\n",
       "      <th>hour</th>\n",
       "      <th>weekday</th>\n",
       "      <th>month</th>\n",
       "      <th>age</th>\n",
       "      <th>n_merchant</th>\n",
       "      <th>n_category</th>\n",
       "      <th>n_gender</th>\n",
       "      <th>n_city</th>\n",
       "      <th>n_state</th>\n",
       "      <th>n_zip</th>\n",
       "      <th>n_job</th>\n",
       "      <th>n_weekday</th>\n",
       "      <th>n_month</th>\n",
       "    </tr>\n",
       "  </thead>\n",
       "  <tbody>\n",
       "    <tr>\n",
       "      <th>0</th>\n",
       "      <td>707705</td>\n",
       "      <td>2019-10-28 20:04:46</td>\n",
       "      <td>3596357274378601</td>\n",
       "      <td>fraud_Wiza, Schaden and Stark</td>\n",
       "      <td>misc_pos</td>\n",
       "      <td>20.29</td>\n",
       "      <td>David</td>\n",
       "      <td>Everett</td>\n",
       "      <td>M</td>\n",
       "      <td>4138 David Fall</td>\n",
       "      <td>Morrisdale</td>\n",
       "      <td>PA</td>\n",
       "      <td>16858</td>\n",
       "      <td>41.0001</td>\n",
       "      <td>-78.2357</td>\n",
       "      <td>3688</td>\n",
       "      <td>Advice worker</td>\n",
       "      <td>1973-05-27</td>\n",
       "      <td>a9b82dcae074f7fd21885d1e4f5b4d20</td>\n",
       "      <td>1351454686</td>\n",
       "      <td>41.152394</td>\n",
       "      <td>-77.767643</td>\n",
       "      <td>0</td>\n",
       "      <td>20</td>\n",
       "      <td>L</td>\n",
       "      <td>10</td>\n",
       "      <td>46.423504</td>\n",
       "      <td>SMALL CATEGORIES</td>\n",
       "      <td>misc_pos</td>\n",
       "      <td>M</td>\n",
       "      <td>SMALL CATEGORIES</td>\n",
       "      <td>PA</td>\n",
       "      <td>SMALL CATEGORIES</td>\n",
       "      <td>SMALL CATEGORIES</td>\n",
       "      <td>L</td>\n",
       "      <td>10</td>\n",
       "    </tr>\n",
       "    <tr>\n",
       "      <th>1</th>\n",
       "      <td>676227</td>\n",
       "      <td>2019-10-14 22:23:19</td>\n",
       "      <td>4610050989831291</td>\n",
       "      <td>fraud_Lind-Buckridge</td>\n",
       "      <td>entertainment</td>\n",
       "      <td>78.38</td>\n",
       "      <td>James</td>\n",
       "      <td>Lynch</td>\n",
       "      <td>M</td>\n",
       "      <td>5155 Mary Common Apt. 927</td>\n",
       "      <td>Utica</td>\n",
       "      <td>PA</td>\n",
       "      <td>16362</td>\n",
       "      <td>41.4798</td>\n",
       "      <td>-79.9403</td>\n",
       "      <td>1102</td>\n",
       "      <td>Garment/textile technologist</td>\n",
       "      <td>1989-07-08</td>\n",
       "      <td>970e5462df3ea982cc5fbc70419f6688</td>\n",
       "      <td>1350253399</td>\n",
       "      <td>41.127628</td>\n",
       "      <td>-80.672137</td>\n",
       "      <td>0</td>\n",
       "      <td>22</td>\n",
       "      <td>L</td>\n",
       "      <td>10</td>\n",
       "      <td>30.270116</td>\n",
       "      <td>SMALL CATEGORIES</td>\n",
       "      <td>entertainment</td>\n",
       "      <td>M</td>\n",
       "      <td>SMALL CATEGORIES</td>\n",
       "      <td>PA</td>\n",
       "      <td>SMALL CATEGORIES</td>\n",
       "      <td>SMALL CATEGORIES</td>\n",
       "      <td>L</td>\n",
       "      <td>10</td>\n",
       "    </tr>\n",
       "  </tbody>\n",
       "</table>\n",
       "</div>"
      ],
      "text/plain": [
       "       ID trans_date_trans_time            cc_num  \\\n",
       "0  707705   2019-10-28 20:04:46  3596357274378601   \n",
       "1  676227   2019-10-14 22:23:19  4610050989831291   \n",
       "\n",
       "                        merchant       category    amt  first     last gender  \\\n",
       "0  fraud_Wiza, Schaden and Stark       misc_pos  20.29  David  Everett      M   \n",
       "1           fraud_Lind-Buckridge  entertainment  78.38  James    Lynch      M   \n",
       "\n",
       "                      street        city state    zip      lat     long  \\\n",
       "0            4138 David Fall  Morrisdale    PA  16858  41.0001 -78.2357   \n",
       "1  5155 Mary Common Apt. 927       Utica    PA  16362  41.4798 -79.9403   \n",
       "\n",
       "   city_pop                           job         dob  \\\n",
       "0      3688                 Advice worker  1973-05-27   \n",
       "1      1102  Garment/textile technologist  1989-07-08   \n",
       "\n",
       "                          trans_num   unix_time  merch_lat  merch_long  \\\n",
       "0  a9b82dcae074f7fd21885d1e4f5b4d20  1351454686  41.152394  -77.767643   \n",
       "1  970e5462df3ea982cc5fbc70419f6688  1350253399  41.127628  -80.672137   \n",
       "\n",
       "   is_fraud  hour weekday  month        age        n_merchant     n_category  \\\n",
       "0         0    20       L     10  46.423504  SMALL CATEGORIES       misc_pos   \n",
       "1         0    22       L     10  30.270116  SMALL CATEGORIES  entertainment   \n",
       "\n",
       "  n_gender            n_city n_state             n_zip             n_job  \\\n",
       "0        M  SMALL CATEGORIES      PA  SMALL CATEGORIES  SMALL CATEGORIES   \n",
       "1        M  SMALL CATEGORIES      PA  SMALL CATEGORIES  SMALL CATEGORIES   \n",
       "\n",
       "  n_weekday n_month  \n",
       "0         L      10  \n",
       "1         L      10  "
      ]
     },
     "execution_count": 10,
     "metadata": {},
     "output_type": "execute_result"
    }
   ],
   "source": [
    "df.head(2)"
   ]
  },
  {
   "cell_type": "code",
   "execution_count": 11,
   "id": "behavioral-moment",
   "metadata": {
    "ExecuteTime": {
     "end_time": "2021-03-20T14:25:04.164875Z",
     "start_time": "2021-03-20T14:25:03.946707Z"
    }
   },
   "outputs": [],
   "source": [
    "varn = df.filter(like='n_').columns.tolist()"
   ]
  },
  {
   "cell_type": "code",
   "execution_count": 12,
   "id": "protective-medicare",
   "metadata": {
    "ExecuteTime": {
     "end_time": "2021-03-20T14:25:04.316173Z",
     "start_time": "2021-03-20T14:25:04.166117Z"
    },
    "scrolled": true
   },
   "outputs": [
    {
     "name": "stdout",
     "output_type": "stream",
     "text": [
      "Tabla de frecuencias para la variable ** n_merchant ** \n",
      "\n",
      "\n",
      "                     FA   FR    FAA  FRA\n",
      "SMALL CATEGORIES  10000  1.0  10000  1.0 \n",
      "\n",
      "\n",
      "Tabla de frecuencias para la variable ** n_category ** \n",
      "\n",
      "\n",
      "                    FA      FR    FAA     FRA\n",
      "gas_transport     1028  0.1028   1028  0.1028\n",
      "home               994  0.0994   2022  0.2022\n",
      "grocery_pos        990  0.0990   3012  0.3012\n",
      "kids_pets          909  0.0909   3921  0.3921\n",
      "shopping_pos       852  0.0852   4773  0.4773\n",
      "shopping_net       757  0.0757   5530  0.5530\n",
      "food_dining        690  0.0690   6220  0.6220\n",
      "entertainment      684  0.0684   6904  0.6904\n",
      "personal_care      679  0.0679   7583  0.7583\n",
      "health_fitness     656  0.0656   8239  0.8239\n",
      "SMALL CATEGORIES   643  0.0643   8882  0.8882\n",
      "misc_pos           618  0.0618   9500  0.9500\n",
      "misc_net           500  0.0500  10000  1.0000 \n",
      "\n",
      "\n",
      "Tabla de frecuencias para la variable ** n_gender ** \n",
      "\n",
      "\n",
      "     FA      FR    FAA     FRA\n",
      "F  5464  0.5464   5464  0.5464\n",
      "M  4536  0.4536  10000  1.0000 \n",
      "\n",
      "\n",
      "Tabla de frecuencias para la variable ** n_city ** \n",
      "\n",
      "\n",
      "                     FA   FR    FAA  FRA\n",
      "SMALL CATEGORIES  10000  1.0  10000  1.0 \n",
      "\n",
      "\n",
      "Tabla de frecuencias para la variable ** n_state ** \n",
      "\n",
      "\n",
      "                    FA      FR    FAA     FRA\n",
      "SMALL CATEGORIES  8013  0.8013   8013  0.8013\n",
      "TX                 741  0.0741   8754  0.8754\n",
      "NY                 628  0.0628   9382  0.9382\n",
      "PA                 618  0.0618  10000  1.0000 \n",
      "\n",
      "\n",
      "Tabla de frecuencias para la variable ** n_zip ** \n",
      "\n",
      "\n",
      "                     FA   FR    FAA  FRA\n",
      "SMALL CATEGORIES  10000  1.0  10000  1.0 \n",
      "\n",
      "\n",
      "Tabla de frecuencias para la variable ** n_job ** \n",
      "\n",
      "\n",
      "                     FA   FR    FAA  FRA\n",
      "SMALL CATEGORIES  10000  1.0  10000  1.0 \n",
      "\n",
      "\n",
      "Tabla de frecuencias para la variable ** n_weekday ** \n",
      "\n",
      "\n",
      "     FA      FR    FAA     FRA\n",
      "L  1977  0.1977   1977  0.1977\n",
      "D  1965  0.1965   3942  0.3942\n",
      "S  1542  0.1542   5484  0.5484\n",
      "M  1231  0.1231   6715  0.6715\n",
      "V  1168  0.1168   7883  0.7883\n",
      "J  1120  0.1120   9003  0.9003\n",
      "X   997  0.0997  10000  1.0000 \n",
      "\n",
      "\n",
      "Tabla de frecuencias para la variable ** n_month ** \n",
      "\n",
      "\n",
      "      FA      FR    FAA     FRA\n",
      "3   1119  0.1119   1119  0.1119\n",
      "6   1108  0.1108   2227  0.2227\n",
      "5   1104  0.1104   3331  0.3331\n",
      "12  1088  0.1088   4419  0.4419\n",
      "4   1048  0.1048   5467  0.5467\n",
      "1    801  0.0801   6268  0.6268\n",
      "2    728  0.0728   6996  0.6996\n",
      "8    668  0.0668   7664  0.7664\n",
      "7    648  0.0648   8312  0.8312\n",
      "11   583  0.0583   8895  0.8895\n",
      "10   565  0.0565   9460  0.9460\n",
      "9    540  0.0540  10000  1.0000 \n",
      "\n",
      "\n"
     ]
    }
   ],
   "source": [
    "freq(df,varn)"
   ]
  },
  {
   "cell_type": "markdown",
   "id": "constitutional-recipient",
   "metadata": {},
   "source": [
    "#### Unarias"
   ]
  },
  {
   "cell_type": "code",
   "execution_count": 13,
   "id": "scheduled-account",
   "metadata": {
    "ExecuteTime": {
     "end_time": "2021-03-20T14:25:04.381730Z",
     "start_time": "2021-03-20T14:25:04.317178Z"
    }
   },
   "outputs": [],
   "source": [
    "unarias = [v for v,conteo in zip(varn,[df[v].unique().shape[0] for v in varn]) if conteo==1]"
   ]
  },
  {
   "cell_type": "code",
   "execution_count": 14,
   "id": "optical-regression",
   "metadata": {
    "ExecuteTime": {
     "end_time": "2021-03-20T14:25:04.470814Z",
     "start_time": "2021-03-20T14:25:04.383375Z"
    }
   },
   "outputs": [
    {
     "data": {
      "text/plain": [
       "['n_merchant', 'n_city', 'n_zip', 'n_job']"
      ]
     },
     "execution_count": 14,
     "metadata": {},
     "output_type": "execute_result"
    }
   ],
   "source": [
    "unarias"
   ]
  },
  {
   "cell_type": "code",
   "execution_count": 15,
   "id": "better-pixel",
   "metadata": {
    "ExecuteTime": {
     "end_time": "2021-03-20T14:25:04.570938Z",
     "start_time": "2021-03-20T14:25:04.471705Z"
    }
   },
   "outputs": [
    {
     "data": {
      "text/plain": [
       "['n_category', 'n_gender', 'n_state', 'n_weekday', 'n_month']"
      ]
     },
     "execution_count": 15,
     "metadata": {},
     "output_type": "execute_result"
    }
   ],
   "source": [
    "varn = [v for v in varn if v not in unarias]\n",
    "varn"
   ]
  },
  {
   "cell_type": "code",
   "execution_count": 16,
   "id": "found-horse",
   "metadata": {
    "ExecuteTime": {
     "end_time": "2021-03-20T14:25:04.696865Z",
     "start_time": "2021-03-20T14:25:04.572601Z"
    },
    "scrolled": true
   },
   "outputs": [
    {
     "name": "stdout",
     "output_type": "stream",
     "text": [
      "Tabla de frecuencias para la variable ** n_category ** \n",
      "\n",
      "\n",
      "                    FA      FR    FAA     FRA\n",
      "gas_transport     1028  0.1028   1028  0.1028\n",
      "home               994  0.0994   2022  0.2022\n",
      "grocery_pos        990  0.0990   3012  0.3012\n",
      "kids_pets          909  0.0909   3921  0.3921\n",
      "shopping_pos       852  0.0852   4773  0.4773\n",
      "shopping_net       757  0.0757   5530  0.5530\n",
      "food_dining        690  0.0690   6220  0.6220\n",
      "entertainment      684  0.0684   6904  0.6904\n",
      "personal_care      679  0.0679   7583  0.7583\n",
      "health_fitness     656  0.0656   8239  0.8239\n",
      "SMALL CATEGORIES   643  0.0643   8882  0.8882\n",
      "misc_pos           618  0.0618   9500  0.9500\n",
      "misc_net           500  0.0500  10000  1.0000 \n",
      "\n",
      "\n",
      "Tabla de frecuencias para la variable ** n_gender ** \n",
      "\n",
      "\n",
      "     FA      FR    FAA     FRA\n",
      "F  5464  0.5464   5464  0.5464\n",
      "M  4536  0.4536  10000  1.0000 \n",
      "\n",
      "\n",
      "Tabla de frecuencias para la variable ** n_state ** \n",
      "\n",
      "\n",
      "                    FA      FR    FAA     FRA\n",
      "SMALL CATEGORIES  8013  0.8013   8013  0.8013\n",
      "TX                 741  0.0741   8754  0.8754\n",
      "NY                 628  0.0628   9382  0.9382\n",
      "PA                 618  0.0618  10000  1.0000 \n",
      "\n",
      "\n",
      "Tabla de frecuencias para la variable ** n_weekday ** \n",
      "\n",
      "\n",
      "     FA      FR    FAA     FRA\n",
      "L  1977  0.1977   1977  0.1977\n",
      "D  1965  0.1965   3942  0.3942\n",
      "S  1542  0.1542   5484  0.5484\n",
      "M  1231  0.1231   6715  0.6715\n",
      "V  1168  0.1168   7883  0.7883\n",
      "J  1120  0.1120   9003  0.9003\n",
      "X   997  0.0997  10000  1.0000 \n",
      "\n",
      "\n",
      "Tabla de frecuencias para la variable ** n_month ** \n",
      "\n",
      "\n",
      "      FA      FR    FAA     FRA\n",
      "3   1119  0.1119   1119  0.1119\n",
      "6   1108  0.1108   2227  0.2227\n",
      "5   1104  0.1104   3331  0.3331\n",
      "12  1088  0.1088   4419  0.4419\n",
      "4   1048  0.1048   5467  0.5467\n",
      "1    801  0.0801   6268  0.6268\n",
      "2    728  0.0728   6996  0.6996\n",
      "8    668  0.0668   7664  0.7664\n",
      "7    648  0.0648   8312  0.8312\n",
      "11   583  0.0583   8895  0.8895\n",
      "10   565  0.0565   9460  0.9460\n",
      "9    540  0.0540  10000  1.0000 \n",
      "\n",
      "\n"
     ]
    }
   ],
   "source": [
    "freq(df,varn)"
   ]
  },
  {
   "cell_type": "markdown",
   "id": "cordless-custody",
   "metadata": {},
   "source": [
    "### Continuas"
   ]
  },
  {
   "cell_type": "markdown",
   "id": "specified-solution",
   "metadata": {},
   "source": [
    "#### Discretización"
   ]
  },
  {
   "cell_type": "code",
   "execution_count": 17,
   "id": "approved-inflation",
   "metadata": {
    "ExecuteTime": {
     "end_time": "2021-03-20T14:25:04.778956Z",
     "start_time": "2021-03-20T14:25:04.698080Z"
    }
   },
   "outputs": [],
   "source": [
    "def discretizar(df,v,k):\n",
    "    kb = KBinsDiscretizer(n_bins=k,\n",
    "                          encode='ordinal',\n",
    "                          strategy='quantile')\n",
    "    kb.fit(df[[v]])\n",
    "    df[f'd_{v}_{k}'] = pd.cut(df[v],bins=kb.bin_edges_[0],include_lowest=True).astype(str)    \n",
    "    return df"
   ]
  },
  {
   "cell_type": "code",
   "execution_count": 18,
   "id": "rising-senegal",
   "metadata": {
    "ExecuteTime": {
     "end_time": "2021-03-20T14:25:05.222064Z",
     "start_time": "2021-03-20T14:25:04.780881Z"
    }
   },
   "outputs": [],
   "source": [
    "for v in varc:\n",
    "    for k in range(2,6):\n",
    "        df = discretizar(df,v,k)"
   ]
  },
  {
   "cell_type": "code",
   "execution_count": 19,
   "id": "brilliant-entertainment",
   "metadata": {
    "ExecuteTime": {
     "end_time": "2021-03-20T14:25:05.233324Z",
     "start_time": "2021-03-20T14:25:05.222974Z"
    }
   },
   "outputs": [],
   "source": [
    "vari = df.filter(like='d_').columns.tolist()"
   ]
  },
  {
   "cell_type": "code",
   "execution_count": 20,
   "id": "informative-fever",
   "metadata": {
    "ExecuteTime": {
     "end_time": "2021-03-20T14:25:05.363157Z",
     "start_time": "2021-03-20T14:25:05.234221Z"
    }
   },
   "outputs": [],
   "source": [
    "def calculo_iv(df,v,tgt):\n",
    "    aux = df.pivot_table(index=v,\n",
    "                         columns=tgt,\n",
    "                         values='ID',\n",
    "                         aggfunc='count',\n",
    "                         fill_value=0)\n",
    "    aux[list(range(2))] = aux/aux.apply(np.sum)\n",
    "    aux['w'] = np.log(aux[0]/aux[1])\n",
    "    aux['iv'] = (aux[0]-aux[1])*aux['w']\n",
    "    return v,aux['iv'].sum()"
   ]
  },
  {
   "cell_type": "markdown",
   "id": "architectural-metropolitan",
   "metadata": {},
   "source": [
    "### Partición de datos\n",
    "\n"
   ]
  },
  {
   "cell_type": "code",
   "execution_count": 21,
   "id": "lyric-copyright",
   "metadata": {
    "ExecuteTime": {
     "end_time": "2021-03-20T14:25:05.491937Z",
     "start_time": "2021-03-20T14:25:05.364973Z"
    }
   },
   "outputs": [],
   "source": [
    "X = df[vari+['ID']].copy()\n",
    "y = df[[tgt]+['ID']].copy()\n",
    "Xt,Xv,yt,yv = train_test_split(X,y,train_size=0.7,random_state=2000)\n",
    "Xt = Xt.merge(yt,on='ID',how='inner')"
   ]
  },
  {
   "cell_type": "code",
   "execution_count": 22,
   "id": "important-carol",
   "metadata": {
    "ExecuteTime": {
     "end_time": "2021-03-20T14:25:05.981051Z",
     "start_time": "2021-03-20T14:25:05.493469Z"
    }
   },
   "outputs": [],
   "source": [
    "iv = pd.DataFrame(map(lambda v:calculo_iv(df,v,tgt),vari),columns=['variable','iv'])\n",
    "\n",
    "iv['raiz'] = iv['variable'].map(lambda x:\"_\".join(x.split('_')[1:-1]))\n",
    "iv = iv.loc[~np.isinf(iv['iv'])].reset_index(drop=True)\n",
    "\n",
    "iv = iv.sort_values(by=['raiz','iv'],ascending=[1,0]).reset_index(drop=True)\n",
    "\n",
    "iv['id'] = iv.groupby('raiz').cumcount()+1\n",
    "\n",
    "iv = iv.loc[iv['id']==1]"
   ]
  },
  {
   "cell_type": "code",
   "execution_count": 23,
   "id": "collective-xerox",
   "metadata": {
    "ExecuteTime": {
     "end_time": "2021-03-20T14:25:05.985945Z",
     "start_time": "2021-03-20T14:25:05.983312Z"
    }
   },
   "outputs": [
    {
     "data": {
      "text/plain": [
       "['d_age_4',\n",
       " 'd_amt_4',\n",
       " 'd_hour_5',\n",
       " 'd_lat_5',\n",
       " 'd_long_5',\n",
       " 'd_merch_lat_5',\n",
       " 'd_merch_long_5']"
      ]
     },
     "execution_count": 23,
     "metadata": {},
     "output_type": "execute_result"
    }
   ],
   "source": [
    "besti = iv['variable'].tolist()\n",
    "besti"
   ]
  },
  {
   "cell_type": "markdown",
   "id": "strange-vaccine",
   "metadata": {},
   "source": [
    "### Selección de variables para scoring"
   ]
  },
  {
   "cell_type": "code",
   "execution_count": 24,
   "id": "illegal-posting",
   "metadata": {
    "ExecuteTime": {
     "end_time": "2021-03-20T14:25:06.210572Z",
     "start_time": "2021-03-20T14:25:05.987306Z"
    }
   },
   "outputs": [],
   "source": [
    "X = df[varn+['ID']].copy()\n",
    "y = df[[tgt]+['ID']].copy()\n",
    "Xt,Xv,yt,yv = train_test_split(X,y,train_size=0.7,random_state=2000)\n",
    "Xt = Xt.merge(yt,on='ID',how='inner')"
   ]
  },
  {
   "cell_type": "code",
   "execution_count": 25,
   "id": "opened-partner",
   "metadata": {
    "ExecuteTime": {
     "end_time": "2021-03-20T14:25:06.368808Z",
     "start_time": "2021-03-20T14:25:06.212237Z"
    }
   },
   "outputs": [],
   "source": [
    "ivd = pd.DataFrame(map(lambda v:calculo_iv(Xt,v,tgt),varn),\n",
    "                   columns=['variable','iv'])"
   ]
  },
  {
   "cell_type": "code",
   "execution_count": 26,
   "id": "stock-electricity",
   "metadata": {
    "ExecuteTime": {
     "end_time": "2021-03-20T14:25:06.492558Z",
     "start_time": "2021-03-20T14:25:06.369744Z"
    }
   },
   "outputs": [],
   "source": [
    "iv = pd.concat([iv,ivd],ignore_index=True)\n",
    "iv = iv.loc[~np.isinf(iv['iv'])].reset_index(drop=True)"
   ]
  },
  {
   "cell_type": "code",
   "execution_count": 27,
   "id": "matched-armor",
   "metadata": {
    "ExecuteTime": {
     "end_time": "2021-03-20T14:25:06.596741Z",
     "start_time": "2021-03-20T14:25:06.496561Z"
    }
   },
   "outputs": [],
   "source": [
    "iv.drop(['raiz','id'],axis=1,inplace=True)"
   ]
  },
  {
   "cell_type": "code",
   "execution_count": 28,
   "id": "offensive-circus",
   "metadata": {
    "ExecuteTime": {
     "end_time": "2021-03-20T14:25:06.697549Z",
     "start_time": "2021-03-20T14:25:06.599430Z"
    }
   },
   "outputs": [
    {
     "data": {
      "text/html": [
       "<div>\n",
       "<style scoped>\n",
       "    .dataframe tbody tr th:only-of-type {\n",
       "        vertical-align: middle;\n",
       "    }\n",
       "\n",
       "    .dataframe tbody tr th {\n",
       "        vertical-align: top;\n",
       "    }\n",
       "\n",
       "    .dataframe thead th {\n",
       "        text-align: right;\n",
       "    }\n",
       "</style>\n",
       "<table border=\"1\" class=\"dataframe\">\n",
       "  <thead>\n",
       "    <tr style=\"text-align: right;\">\n",
       "      <th></th>\n",
       "      <th>variable</th>\n",
       "      <th>iv</th>\n",
       "    </tr>\n",
       "  </thead>\n",
       "  <tbody>\n",
       "    <tr>\n",
       "      <th>2</th>\n",
       "      <td>d_hour_5</td>\n",
       "      <td>1.463344</td>\n",
       "    </tr>\n",
       "    <tr>\n",
       "      <th>1</th>\n",
       "      <td>d_amt_4</td>\n",
       "      <td>1.098675</td>\n",
       "    </tr>\n",
       "    <tr>\n",
       "      <th>10</th>\n",
       "      <td>n_month</td>\n",
       "      <td>0.273137</td>\n",
       "    </tr>\n",
       "    <tr>\n",
       "      <th>0</th>\n",
       "      <td>d_age_4</td>\n",
       "      <td>0.166772</td>\n",
       "    </tr>\n",
       "    <tr>\n",
       "      <th>9</th>\n",
       "      <td>n_weekday</td>\n",
       "      <td>0.123204</td>\n",
       "    </tr>\n",
       "    <tr>\n",
       "      <th>6</th>\n",
       "      <td>d_merch_long_5</td>\n",
       "      <td>0.091501</td>\n",
       "    </tr>\n",
       "    <tr>\n",
       "      <th>3</th>\n",
       "      <td>d_lat_5</td>\n",
       "      <td>0.079914</td>\n",
       "    </tr>\n",
       "    <tr>\n",
       "      <th>4</th>\n",
       "      <td>d_long_5</td>\n",
       "      <td>0.078859</td>\n",
       "    </tr>\n",
       "    <tr>\n",
       "      <th>5</th>\n",
       "      <td>d_merch_lat_5</td>\n",
       "      <td>0.067952</td>\n",
       "    </tr>\n",
       "    <tr>\n",
       "      <th>8</th>\n",
       "      <td>n_state</td>\n",
       "      <td>0.024060</td>\n",
       "    </tr>\n",
       "    <tr>\n",
       "      <th>7</th>\n",
       "      <td>n_gender</td>\n",
       "      <td>0.001338</td>\n",
       "    </tr>\n",
       "  </tbody>\n",
       "</table>\n",
       "</div>"
      ],
      "text/plain": [
       "          variable        iv\n",
       "2         d_hour_5  1.463344\n",
       "1          d_amt_4  1.098675\n",
       "10         n_month  0.273137\n",
       "0          d_age_4  0.166772\n",
       "9        n_weekday  0.123204\n",
       "6   d_merch_long_5  0.091501\n",
       "3          d_lat_5  0.079914\n",
       "4         d_long_5  0.078859\n",
       "5    d_merch_lat_5  0.067952\n",
       "8          n_state  0.024060\n",
       "7         n_gender  0.001338"
      ]
     },
     "execution_count": 28,
     "metadata": {},
     "output_type": "execute_result"
    }
   ],
   "source": [
    "iv.sort_values(by='iv',ascending=False)"
   ]
  },
  {
   "cell_type": "code",
   "execution_count": 29,
   "id": "focused-cruise",
   "metadata": {
    "ExecuteTime": {
     "end_time": "2021-03-20T14:25:06.803600Z",
     "start_time": "2021-03-20T14:25:06.699455Z"
    }
   },
   "outputs": [
    {
     "data": {
      "text/plain": [
       "11"
      ]
     },
     "execution_count": 29,
     "metadata": {},
     "output_type": "execute_result"
    }
   ],
   "source": [
    "best = iv['variable'].tolist()\n",
    "len(best)"
   ]
  },
  {
   "cell_type": "code",
   "execution_count": 30,
   "id": "black-insert",
   "metadata": {
    "ExecuteTime": {
     "end_time": "2021-03-20T14:25:06.908655Z",
     "start_time": "2021-03-20T14:25:06.804619Z"
    }
   },
   "outputs": [
    {
     "data": {
      "text/plain": [
       "['d_age_4',\n",
       " 'd_amt_4',\n",
       " 'd_hour_5',\n",
       " 'd_lat_5',\n",
       " 'd_long_5',\n",
       " 'd_merch_lat_5',\n",
       " 'd_merch_long_5',\n",
       " 'n_gender',\n",
       " 'n_state',\n",
       " 'n_weekday',\n",
       " 'n_month']"
      ]
     },
     "execution_count": 30,
     "metadata": {},
     "output_type": "execute_result"
    }
   ],
   "source": [
    "best"
   ]
  },
  {
   "cell_type": "markdown",
   "id": "communist-channels",
   "metadata": {},
   "source": [
    "## Transformación WoE"
   ]
  },
  {
   "cell_type": "code",
   "execution_count": 31,
   "id": "legitimate-invitation",
   "metadata": {
    "ExecuteTime": {
     "end_time": "2021-03-20T14:25:07.034531Z",
     "start_time": "2021-03-20T14:25:06.912938Z"
    }
   },
   "outputs": [],
   "source": [
    "X = df[best+['ID']].copy()\n",
    "y = df[[tgt]+['ID']].copy()\n",
    "Xt,Xv,yt,yv = train_test_split(X,y,train_size=0.7,random_state=2000)\n",
    "Xt = Xt.merge(yt,on='ID',how='inner')"
   ]
  },
  {
   "cell_type": "code",
   "execution_count": 32,
   "id": "precious-valuation",
   "metadata": {
    "ExecuteTime": {
     "end_time": "2021-03-20T14:25:07.121223Z",
     "start_time": "2021-03-20T14:25:07.036378Z"
    }
   },
   "outputs": [],
   "source": [
    "def codificacion_woe(df,v,tgt):\n",
    "    aux = df.pivot_table(index=v,\n",
    "                         columns=tgt,\n",
    "                         values='ID',\n",
    "                         aggfunc='count',\n",
    "                         fill_value=0)\n",
    "    aux[list(range(2))] = aux/aux.apply(np.sum)\n",
    "    aux['w'] = np.log(aux[0]/aux[1])\n",
    "    aux.drop(range(2),axis=1,inplace=True)\n",
    "    aux = aux.to_dict()['w']\n",
    "    return v,aux"
   ]
  },
  {
   "cell_type": "code",
   "execution_count": 33,
   "id": "reverse-amendment",
   "metadata": {
    "ExecuteTime": {
     "end_time": "2021-03-20T14:25:07.330690Z",
     "start_time": "2021-03-20T14:25:07.122146Z"
    }
   },
   "outputs": [],
   "source": [
    "mapa_woe = list(map(lambda v:codificacion_woe(Xt,v,tgt),best))"
   ]
  },
  {
   "cell_type": "code",
   "execution_count": 34,
   "id": "silver-worry",
   "metadata": {
    "ExecuteTime": {
     "end_time": "2021-03-20T14:25:07.375029Z",
     "start_time": "2021-03-20T14:25:07.332140Z"
    }
   },
   "outputs": [],
   "source": [
    "for v,mapa in mapa_woe:\n",
    "    Xt[f'w_{v}'] = Xt[v].replace(mapa)\n",
    "    Xv[f'w_{v}'] = Xv[v].replace(mapa)"
   ]
  },
  {
   "cell_type": "code",
   "execution_count": 35,
   "id": "statutory-preference",
   "metadata": {
    "ExecuteTime": {
     "end_time": "2021-03-20T14:25:07.445084Z",
     "start_time": "2021-03-20T14:25:07.376113Z"
    }
   },
   "outputs": [
    {
     "data": {
      "text/plain": [
       "((7000, 24), (7000, 24))"
      ]
     },
     "execution_count": 35,
     "metadata": {},
     "output_type": "execute_result"
    }
   ],
   "source": [
    "Xt.shape,Xt.dropna().shape"
   ]
  },
  {
   "cell_type": "code",
   "execution_count": 36,
   "id": "natural-sarah",
   "metadata": {
    "ExecuteTime": {
     "end_time": "2021-03-20T14:25:07.554932Z",
     "start_time": "2021-03-20T14:25:07.446085Z"
    }
   },
   "outputs": [
    {
     "data": {
      "text/plain": [
       "((3000, 23), (3000, 23))"
      ]
     },
     "execution_count": 36,
     "metadata": {},
     "output_type": "execute_result"
    }
   ],
   "source": [
    "Xv.shape,Xv.dropna().shape"
   ]
  },
  {
   "cell_type": "code",
   "execution_count": 37,
   "id": "insured-professor",
   "metadata": {
    "ExecuteTime": {
     "end_time": "2021-03-20T14:25:07.677372Z",
     "start_time": "2021-03-20T14:25:07.556118Z"
    }
   },
   "outputs": [
    {
     "data": {
      "text/html": [
       "<div>\n",
       "<style scoped>\n",
       "    .dataframe tbody tr th:only-of-type {\n",
       "        vertical-align: middle;\n",
       "    }\n",
       "\n",
       "    .dataframe tbody tr th {\n",
       "        vertical-align: top;\n",
       "    }\n",
       "\n",
       "    .dataframe thead th {\n",
       "        text-align: right;\n",
       "    }\n",
       "</style>\n",
       "<table border=\"1\" class=\"dataframe\">\n",
       "  <thead>\n",
       "    <tr style=\"text-align: right;\">\n",
       "      <th></th>\n",
       "      <th>d_age_4</th>\n",
       "      <th>d_amt_4</th>\n",
       "      <th>d_hour_5</th>\n",
       "      <th>d_lat_5</th>\n",
       "      <th>d_long_5</th>\n",
       "      <th>d_merch_lat_5</th>\n",
       "      <th>d_merch_long_5</th>\n",
       "      <th>n_gender</th>\n",
       "      <th>n_state</th>\n",
       "      <th>n_weekday</th>\n",
       "      <th>n_month</th>\n",
       "      <th>ID</th>\n",
       "      <th>is_fraud</th>\n",
       "      <th>w_d_age_4</th>\n",
       "      <th>w_d_amt_4</th>\n",
       "      <th>w_d_hour_5</th>\n",
       "      <th>w_d_lat_5</th>\n",
       "      <th>w_d_long_5</th>\n",
       "      <th>w_d_merch_lat_5</th>\n",
       "      <th>w_d_merch_long_5</th>\n",
       "      <th>w_n_gender</th>\n",
       "      <th>w_n_state</th>\n",
       "      <th>w_n_weekday</th>\n",
       "      <th>w_n_month</th>\n",
       "    </tr>\n",
       "  </thead>\n",
       "  <tbody>\n",
       "    <tr>\n",
       "      <th>0</th>\n",
       "      <td>(44.263, 57.483]</td>\n",
       "      <td>(0.999, 9.675]</td>\n",
       "      <td>(-0.001, 6.0]</td>\n",
       "      <td>(42.685, 65.69]</td>\n",
       "      <td>(-98.737, -91.068]</td>\n",
       "      <td>(42.617, 66.037]</td>\n",
       "      <td>(-98.82, -91.219]</td>\n",
       "      <td>M</td>\n",
       "      <td>SMALL CATEGORIES</td>\n",
       "      <td>D</td>\n",
       "      <td>1</td>\n",
       "      <td>43897</td>\n",
       "      <td>0</td>\n",
       "      <td>0.245310</td>\n",
       "      <td>0.505062</td>\n",
       "      <td>-0.548898</td>\n",
       "      <td>0.285525</td>\n",
       "      <td>-0.103517</td>\n",
       "      <td>0.136401</td>\n",
       "      <td>0.007871</td>\n",
       "      <td>-0.039172</td>\n",
       "      <td>0.033364</td>\n",
       "      <td>-0.132984</td>\n",
       "      <td>0.032048</td>\n",
       "    </tr>\n",
       "    <tr>\n",
       "      <th>1</th>\n",
       "      <td>(32.815, 44.263]</td>\n",
       "      <td>(0.999, 9.675]</td>\n",
       "      <td>(6.0, 12.0]</td>\n",
       "      <td>(38.259, 40.468]</td>\n",
       "      <td>(-98.737, -91.068]</td>\n",
       "      <td>(38.082, 40.38]</td>\n",
       "      <td>(-98.82, -91.219]</td>\n",
       "      <td>F</td>\n",
       "      <td>SMALL CATEGORIES</td>\n",
       "      <td>D</td>\n",
       "      <td>5</td>\n",
       "      <td>1185149</td>\n",
       "      <td>0</td>\n",
       "      <td>0.208088</td>\n",
       "      <td>0.505062</td>\n",
       "      <td>2.174621</td>\n",
       "      <td>0.132813</td>\n",
       "      <td>-0.103517</td>\n",
       "      <td>0.477875</td>\n",
       "      <td>0.007871</td>\n",
       "      <td>0.034166</td>\n",
       "      <td>0.033364</td>\n",
       "      <td>-0.132984</td>\n",
       "      <td>-0.124703</td>\n",
       "    </tr>\n",
       "  </tbody>\n",
       "</table>\n",
       "</div>"
      ],
      "text/plain": [
       "            d_age_4         d_amt_4       d_hour_5           d_lat_5  \\\n",
       "0  (44.263, 57.483]  (0.999, 9.675]  (-0.001, 6.0]   (42.685, 65.69]   \n",
       "1  (32.815, 44.263]  (0.999, 9.675]    (6.0, 12.0]  (38.259, 40.468]   \n",
       "\n",
       "             d_long_5     d_merch_lat_5     d_merch_long_5 n_gender  \\\n",
       "0  (-98.737, -91.068]  (42.617, 66.037]  (-98.82, -91.219]        M   \n",
       "1  (-98.737, -91.068]   (38.082, 40.38]  (-98.82, -91.219]        F   \n",
       "\n",
       "            n_state n_weekday n_month       ID  is_fraud  w_d_age_4  \\\n",
       "0  SMALL CATEGORIES         D       1    43897         0   0.245310   \n",
       "1  SMALL CATEGORIES         D       5  1185149         0   0.208088   \n",
       "\n",
       "   w_d_amt_4  w_d_hour_5  w_d_lat_5  w_d_long_5  w_d_merch_lat_5  \\\n",
       "0   0.505062   -0.548898   0.285525   -0.103517         0.136401   \n",
       "1   0.505062    2.174621   0.132813   -0.103517         0.477875   \n",
       "\n",
       "   w_d_merch_long_5  w_n_gender  w_n_state  w_n_weekday  w_n_month  \n",
       "0          0.007871   -0.039172   0.033364    -0.132984   0.032048  \n",
       "1          0.007871    0.034166   0.033364    -0.132984  -0.124703  "
      ]
     },
     "execution_count": 37,
     "metadata": {},
     "output_type": "execute_result"
    }
   ],
   "source": [
    "Xt.head(2)"
   ]
  },
  {
   "cell_type": "code",
   "execution_count": 38,
   "id": "palestinian-vessel",
   "metadata": {
    "ExecuteTime": {
     "end_time": "2021-03-20T14:25:07.787471Z",
     "start_time": "2021-03-20T14:25:07.679163Z"
    }
   },
   "outputs": [
    {
     "data": {
      "text/plain": [
       "['w_d_age_4',\n",
       " 'w_d_amt_4',\n",
       " 'w_d_hour_5',\n",
       " 'w_d_lat_5',\n",
       " 'w_d_long_5',\n",
       " 'w_d_merch_lat_5',\n",
       " 'w_d_merch_long_5',\n",
       " 'w_n_gender',\n",
       " 'w_n_state',\n",
       " 'w_n_weekday',\n",
       " 'w_n_month']"
      ]
     },
     "execution_count": 38,
     "metadata": {},
     "output_type": "execute_result"
    }
   ],
   "source": [
    "varw = Xt.filter(like='w_').columns.tolist()\n",
    "varw"
   ]
  },
  {
   "cell_type": "markdown",
   "id": "mathematical-watson",
   "metadata": {},
   "source": [
    "## Ajuste del modelo logístico"
   ]
  },
  {
   "cell_type": "code",
   "execution_count": 39,
   "id": "enhanced-hardware",
   "metadata": {
    "ExecuteTime": {
     "end_time": "2021-03-20T14:25:07.889675Z",
     "start_time": "2021-03-20T14:25:07.791263Z"
    }
   },
   "outputs": [],
   "source": [
    "modelo = LogisticRegression()"
   ]
  },
  {
   "cell_type": "code",
   "execution_count": 40,
   "id": "stupid-finance",
   "metadata": {
    "ExecuteTime": {
     "end_time": "2021-03-20T14:25:08.359431Z",
     "start_time": "2021-03-20T14:25:07.891353Z"
    }
   },
   "outputs": [
    {
     "data": {
      "text/plain": [
       "LogisticRegression()"
      ]
     },
     "execution_count": 40,
     "metadata": {},
     "output_type": "execute_result"
    }
   ],
   "source": [
    "modelo.fit(Xt[varw],yt[tgt])"
   ]
  },
  {
   "cell_type": "code",
   "execution_count": 41,
   "id": "touched-popularity",
   "metadata": {
    "ExecuteTime": {
     "end_time": "2021-03-20T14:25:09.229064Z",
     "start_time": "2021-03-20T14:25:08.361179Z"
    }
   },
   "outputs": [
    {
     "data": {
      "text/plain": [
       "<AxesSubplot:title={'center':'ROC Curves'}, xlabel='False Positive Rate', ylabel='True Positive Rate'>"
      ]
     },
     "execution_count": 41,
     "metadata": {},
     "output_type": "execute_result"
    },
    {
     "data": {
      "image/png": "[encoded data removed]",
      "text/plain": [
       "<Figure size 432x288 with 1 Axes>"
      ]
     },
     "metadata": {
      "needs_background": "light"
     },
     "output_type": "display_data"
    },
    {
     "data": {
      "image/png": "[encoded data removed]",
      "text/plain": [
       "<Figure size 432x288 with 1 Axes>"
      ]
     },
     "metadata": {
      "needs_background": "light"
     },
     "output_type": "display_data"
    }
   ],
   "source": [
    "plot_roc_curve(y_true=yt[tgt],y_probas=modelo.predict_proba(Xt[varw]),curves='macro')\n",
    "plot_roc_curve(y_true=yv[tgt],y_probas=modelo.predict_proba(Xv[varw]),curves='macro')"
   ]
  },
  {
   "cell_type": "markdown",
   "id": "assisted-doubt",
   "metadata": {},
   "source": [
    "## Transformación Scoring"
   ]
  },
  {
   "cell_type": "code",
   "execution_count": 88,
   "id": "burning-acting",
   "metadata": {
    "ExecuteTime": {
     "end_time": "2021-03-20T14:27:59.906344Z",
     "start_time": "2021-03-20T14:27:59.900378Z"
    }
   },
   "outputs": [
    {
     "name": "stdout",
     "output_type": "stream",
     "text": [
      "34.624680981335125 721.0\n"
     ]
    }
   ],
   "source": [
    "PDO = 24\n",
    "base_score = 745\n",
    "base_odds = 2\n",
    "factor = PDO / np.log(2)\n",
    "offset = base_score-factor*np.log(base_odds)\n",
    "print(factor,offset)"
   ]
  },
  {
   "cell_type": "code",
   "execution_count": 89,
   "id": "discrete-bouquet",
   "metadata": {
    "ExecuteTime": {
     "end_time": "2021-03-20T14:28:00.148196Z",
     "start_time": "2021-03-20T14:28:00.146095Z"
    }
   },
   "outputs": [],
   "source": [
    "betas = modelo.coef_[0].tolist()\n",
    "beta0 = modelo.intercept_[0]"
   ]
  },
  {
   "cell_type": "code",
   "execution_count": 90,
   "id": "characteristic-hands",
   "metadata": {
    "ExecuteTime": {
     "end_time": "2021-03-20T14:28:00.363861Z",
     "start_time": "2021-03-20T14:28:00.362004Z"
    }
   },
   "outputs": [],
   "source": [
    "n = len(betas)"
   ]
  },
  {
   "cell_type": "code",
   "execution_count": 91,
   "id": "operating-neutral",
   "metadata": {
    "ExecuteTime": {
     "end_time": "2021-03-20T14:28:00.603811Z",
     "start_time": "2021-03-20T14:28:00.577216Z"
    }
   },
   "outputs": [],
   "source": [
    "for v,beta in zip(varw,betas):\n",
    "    Xt[f'p_{v}'] = np.ceil((-Xt[v]*beta+beta0/n)*factor+offset/n)\n",
    "    Xv[f'p_{v}'] = np.ceil((-Xv[v]*beta+beta0/n)*factor+offset/n)"
   ]
  },
  {
   "cell_type": "code",
   "execution_count": 92,
   "id": "pretty-congo",
   "metadata": {
    "ExecuteTime": {
     "end_time": "2021-03-20T14:28:00.742649Z",
     "start_time": "2021-03-20T14:28:00.739202Z"
    }
   },
   "outputs": [
    {
     "data": {
      "text/plain": [
       "['p_w_d_age_4',\n",
       " 'p_w_d_amt_4',\n",
       " 'p_w_d_hour_5',\n",
       " 'p_w_d_lat_5',\n",
       " 'p_w_d_long_5',\n",
       " 'p_w_d_merch_lat_5',\n",
       " 'p_w_d_merch_long_5',\n",
       " 'p_w_n_gender',\n",
       " 'p_w_n_state',\n",
       " 'p_w_n_weekday',\n",
       " 'p_w_n_month']"
      ]
     },
     "execution_count": 92,
     "metadata": {},
     "output_type": "execute_result"
    }
   ],
   "source": [
    "varp = Xt.filter(like='p_').columns.tolist()\n",
    "varp"
   ]
  },
  {
   "cell_type": "code",
   "execution_count": 93,
   "id": "alike-lancaster",
   "metadata": {
    "ExecuteTime": {
     "end_time": "2021-03-20T14:28:00.951403Z",
     "start_time": "2021-03-20T14:28:00.946261Z"
    }
   },
   "outputs": [],
   "source": [
    "Xt['score'] = Xt[varp].sum(axis=1)\n",
    "Xv['score'] = Xv[varp].sum(axis=1)"
   ]
  },
  {
   "cell_type": "code",
   "execution_count": 94,
   "id": "brutal-comedy",
   "metadata": {
    "ExecuteTime": {
     "end_time": "2021-03-20T14:28:01.279705Z",
     "start_time": "2021-03-20T14:28:01.145640Z"
    }
   },
   "outputs": [
    {
     "data": {
      "text/plain": [
       "<AxesSubplot:xlabel='score', ylabel='Density'>"
      ]
     },
     "execution_count": 94,
     "metadata": {},
     "output_type": "execute_result"
    },
    {
     "data": {
      "image/png": "[encoded data removed]",
      "text/plain": [
       "<Figure size 432x288 with 1 Axes>"
      ]
     },
     "metadata": {
      "needs_background": "light"
     },
     "output_type": "display_data"
    }
   ],
   "source": [
    "sns.distplot(Xt['score'],hist=False)\n",
    "sns.distplot(Xv['score'],hist=False)"
   ]
  },
  {
   "cell_type": "markdown",
   "id": "mature-tissue",
   "metadata": {},
   "source": [
    "### Crear scorecard"
   ]
  },
  {
   "cell_type": "code",
   "execution_count": 95,
   "id": "incident-cache",
   "metadata": {
    "ExecuteTime": {
     "end_time": "2021-03-20T14:28:01.752441Z",
     "start_time": "2021-03-20T14:28:01.703382Z"
    }
   },
   "outputs": [],
   "source": [
    "lsc = []\n",
    "for vi,vp in zip([v[2:] for v in varw],varp):\n",
    "    aux = Xt[[vi,vp]].drop_duplicates()\n",
    "    aux = aux.sort_values(by=vi,ascending=True).reset_index(drop=True)\n",
    "    aux.columns = ['atributo','puntos']\n",
    "    aux['caracteristica'] = vi\n",
    "    lsc.append(aux)"
   ]
  },
  {
   "cell_type": "code",
   "execution_count": 96,
   "id": "australian-withdrawal",
   "metadata": {
    "ExecuteTime": {
     "end_time": "2021-03-20T14:28:01.955621Z",
     "start_time": "2021-03-20T14:28:01.947395Z"
    }
   },
   "outputs": [],
   "source": [
    "scorecard = pd.concat(lsc,ignore_index=True)"
   ]
  },
  {
   "cell_type": "code",
   "execution_count": 97,
   "id": "union-breath",
   "metadata": {
    "ExecuteTime": {
     "end_time": "2021-03-20T14:28:02.262182Z",
     "start_time": "2021-03-20T14:28:02.254052Z"
    }
   },
   "outputs": [],
   "source": [
    "scorecard = scorecard.groupby(['caracteristica','atributo']).sum('puntos')"
   ]
  },
  {
   "cell_type": "code",
   "execution_count": 98,
   "id": "short-cleaning",
   "metadata": {
    "ExecuteTime": {
     "end_time": "2021-03-20T14:28:02.546699Z",
     "start_time": "2021-03-20T14:28:02.521847Z"
    }
   },
   "outputs": [],
   "source": [
    "scorecard.to_excel('scorecard_fraude.xlsx')"
   ]
  },
  {
   "cell_type": "code",
   "execution_count": 99,
   "id": "dense-winning",
   "metadata": {
    "ExecuteTime": {
     "end_time": "2021-03-20T14:28:02.785275Z",
     "start_time": "2021-03-20T14:28:02.747311Z"
    }
   },
   "outputs": [
    {
     "data": {
      "text/html": [
       "<div>\n",
       "<style scoped>\n",
       "    .dataframe tbody tr th:only-of-type {\n",
       "        vertical-align: middle;\n",
       "    }\n",
       "\n",
       "    .dataframe tbody tr th {\n",
       "        vertical-align: top;\n",
       "    }\n",
       "\n",
       "    .dataframe thead th {\n",
       "        text-align: right;\n",
       "    }\n",
       "</style>\n",
       "<table border=\"1\" class=\"dataframe\">\n",
       "  <thead>\n",
       "    <tr style=\"text-align: right;\">\n",
       "      <th></th>\n",
       "      <th>ID</th>\n",
       "      <th>trans_date_trans_time</th>\n",
       "      <th>cc_num</th>\n",
       "      <th>merchant</th>\n",
       "      <th>category</th>\n",
       "      <th>amt</th>\n",
       "      <th>first</th>\n",
       "      <th>last</th>\n",
       "      <th>gender</th>\n",
       "      <th>street</th>\n",
       "      <th>city</th>\n",
       "      <th>state</th>\n",
       "      <th>zip</th>\n",
       "      <th>lat</th>\n",
       "      <th>long</th>\n",
       "      <th>city_pop</th>\n",
       "      <th>job</th>\n",
       "      <th>dob</th>\n",
       "      <th>trans_num</th>\n",
       "      <th>unix_time</th>\n",
       "      <th>merch_lat</th>\n",
       "      <th>merch_long</th>\n",
       "      <th>is_fraud</th>\n",
       "      <th>hour</th>\n",
       "      <th>weekday</th>\n",
       "      <th>month</th>\n",
       "      <th>age</th>\n",
       "      <th>n_merchant</th>\n",
       "      <th>n_category</th>\n",
       "      <th>n_gender</th>\n",
       "      <th>n_city</th>\n",
       "      <th>n_state</th>\n",
       "      <th>n_zip</th>\n",
       "      <th>n_job</th>\n",
       "      <th>n_weekday</th>\n",
       "      <th>n_month</th>\n",
       "      <th>d_amt_2</th>\n",
       "      <th>d_amt_3</th>\n",
       "      <th>d_amt_4</th>\n",
       "      <th>d_amt_5</th>\n",
       "      <th>d_lat_2</th>\n",
       "      <th>d_lat_3</th>\n",
       "      <th>d_lat_4</th>\n",
       "      <th>d_lat_5</th>\n",
       "      <th>d_long_2</th>\n",
       "      <th>d_long_3</th>\n",
       "      <th>d_long_4</th>\n",
       "      <th>d_long_5</th>\n",
       "      <th>d_age_2</th>\n",
       "      <th>d_age_3</th>\n",
       "      <th>d_age_4</th>\n",
       "      <th>d_age_5</th>\n",
       "      <th>d_merch_lat_2</th>\n",
       "      <th>d_merch_lat_3</th>\n",
       "      <th>d_merch_lat_4</th>\n",
       "      <th>d_merch_lat_5</th>\n",
       "      <th>d_merch_long_2</th>\n",
       "      <th>d_merch_long_3</th>\n",
       "      <th>d_merch_long_4</th>\n",
       "      <th>d_merch_long_5</th>\n",
       "      <th>d_hour_2</th>\n",
       "      <th>d_hour_3</th>\n",
       "      <th>d_hour_4</th>\n",
       "      <th>d_hour_5</th>\n",
       "    </tr>\n",
       "  </thead>\n",
       "  <tbody>\n",
       "    <tr>\n",
       "      <th>5826</th>\n",
       "      <td>871444</td>\n",
       "      <td>2019-12-20 16:01:16</td>\n",
       "      <td>4364010865167176</td>\n",
       "      <td>fraud_Barton Inc</td>\n",
       "      <td>grocery_pos</td>\n",
       "      <td>58.57</td>\n",
       "      <td>Gary</td>\n",
       "      <td>Martinez</td>\n",
       "      <td>M</td>\n",
       "      <td>03512 Jackson Ports</td>\n",
       "      <td>Reno</td>\n",
       "      <td>NV</td>\n",
       "      <td>89512</td>\n",
       "      <td>39.5483</td>\n",
       "      <td>-119.7957</td>\n",
       "      <td>276896</td>\n",
       "      <td>Immunologist</td>\n",
       "      <td>1997-03-12</td>\n",
       "      <td>4756a9441a42f47ca946dcc9e166b9f9</td>\n",
       "      <td>1356019276</td>\n",
       "      <td>40.391435</td>\n",
       "      <td>-119.131904</td>\n",
       "      <td>0</td>\n",
       "      <td>16</td>\n",
       "      <td>V</td>\n",
       "      <td>12</td>\n",
       "      <td>22.775738</td>\n",
       "      <td>SMALL CATEGORIES</td>\n",
       "      <td>grocery_pos</td>\n",
       "      <td>M</td>\n",
       "      <td>SMALL CATEGORIES</td>\n",
       "      <td>SMALL CATEGORIES</td>\n",
       "      <td>SMALL CATEGORIES</td>\n",
       "      <td>SMALL CATEGORIES</td>\n",
       "      <td>V</td>\n",
       "      <td>12</td>\n",
       "      <td>(46.415, 2481.4]</td>\n",
       "      <td>(20.77, 69.36]</td>\n",
       "      <td>(46.415, 81.695]</td>\n",
       "      <td>(30.876, 59.49]</td>\n",
       "      <td>(39.346, 65.69]</td>\n",
       "      <td>(36.666, 41.004]</td>\n",
       "      <td>(39.346, 41.847]</td>\n",
       "      <td>(38.259, 40.468]</td>\n",
       "      <td>(-165.673, -87.725]</td>\n",
       "      <td>(-165.673, -93.87]</td>\n",
       "      <td>(-165.673, -96.791]</td>\n",
       "      <td>(-165.673, -98.737]</td>\n",
       "      <td>(14.06, 44.263]</td>\n",
       "      <td>(14.06, 35.951]</td>\n",
       "      <td>(14.06, 32.815]</td>\n",
       "      <td>(14.06, 30.696]</td>\n",
       "      <td>(39.374, 66.037]</td>\n",
       "      <td>(36.622, 41.027]</td>\n",
       "      <td>(39.374, 41.894]</td>\n",
       "      <td>(40.38, 42.617]</td>\n",
       "      <td>(-166.645, -87.61]</td>\n",
       "      <td>(-166.645, -93.927]</td>\n",
       "      <td>(-166.645, -96.877]</td>\n",
       "      <td>(-166.645, -98.82]</td>\n",
       "      <td>(14.0, 23.0]</td>\n",
       "      <td>(10.0, 17.0]</td>\n",
       "      <td>(14.0, 19.0]</td>\n",
       "      <td>(12.0, 16.0]</td>\n",
       "    </tr>\n",
       "  </tbody>\n",
       "</table>\n",
       "</div>"
      ],
      "text/plain": [
       "          ID trans_date_trans_time            cc_num          merchant  \\\n",
       "5826  871444   2019-12-20 16:01:16  4364010865167176  fraud_Barton Inc   \n",
       "\n",
       "         category    amt first      last gender               street  city  \\\n",
       "5826  grocery_pos  58.57  Gary  Martinez      M  03512 Jackson Ports  Reno   \n",
       "\n",
       "     state    zip      lat      long  city_pop           job         dob  \\\n",
       "5826    NV  89512  39.5483 -119.7957    276896  Immunologist  1997-03-12   \n",
       "\n",
       "                             trans_num   unix_time  merch_lat  merch_long  \\\n",
       "5826  4756a9441a42f47ca946dcc9e166b9f9  1356019276  40.391435 -119.131904   \n",
       "\n",
       "      is_fraud  hour weekday  month        age        n_merchant   n_category  \\\n",
       "5826         0    16       V     12  22.775738  SMALL CATEGORIES  grocery_pos   \n",
       "\n",
       "     n_gender            n_city           n_state             n_zip  \\\n",
       "5826        M  SMALL CATEGORIES  SMALL CATEGORIES  SMALL CATEGORIES   \n",
       "\n",
       "                 n_job n_weekday n_month           d_amt_2         d_amt_3  \\\n",
       "5826  SMALL CATEGORIES         V      12  (46.415, 2481.4]  (20.77, 69.36]   \n",
       "\n",
       "               d_amt_4          d_amt_5          d_lat_2           d_lat_3  \\\n",
       "5826  (46.415, 81.695]  (30.876, 59.49]  (39.346, 65.69]  (36.666, 41.004]   \n",
       "\n",
       "               d_lat_4           d_lat_5             d_long_2  \\\n",
       "5826  (39.346, 41.847]  (38.259, 40.468]  (-165.673, -87.725]   \n",
       "\n",
       "                d_long_3             d_long_4             d_long_5  \\\n",
       "5826  (-165.673, -93.87]  (-165.673, -96.791]  (-165.673, -98.737]   \n",
       "\n",
       "              d_age_2          d_age_3          d_age_4          d_age_5  \\\n",
       "5826  (14.06, 44.263]  (14.06, 35.951]  (14.06, 32.815]  (14.06, 30.696]   \n",
       "\n",
       "         d_merch_lat_2     d_merch_lat_3     d_merch_lat_4    d_merch_lat_5  \\\n",
       "5826  (39.374, 66.037]  (36.622, 41.027]  (39.374, 41.894]  (40.38, 42.617]   \n",
       "\n",
       "          d_merch_long_2       d_merch_long_3       d_merch_long_4  \\\n",
       "5826  (-166.645, -87.61]  (-166.645, -93.927]  (-166.645, -96.877]   \n",
       "\n",
       "          d_merch_long_5      d_hour_2      d_hour_3      d_hour_4  \\\n",
       "5826  (-166.645, -98.82]  (14.0, 23.0]  (10.0, 17.0]  (14.0, 19.0]   \n",
       "\n",
       "          d_hour_5  \n",
       "5826  (12.0, 16.0]  "
      ]
     },
     "execution_count": 99,
     "metadata": {},
     "output_type": "execute_result"
    }
   ],
   "source": [
    "df.sample(1)"
   ]
  },
  {
   "cell_type": "code",
   "execution_count": 100,
   "id": "integral-moldova",
   "metadata": {
    "ExecuteTime": {
     "end_time": "2021-03-20T14:28:02.974962Z",
     "start_time": "2021-03-20T14:28:02.970632Z"
    }
   },
   "outputs": [
    {
     "data": {
      "text/plain": [
       "0.013071895424836602"
      ]
     },
     "execution_count": 100,
     "metadata": {},
     "output_type": "execute_result"
    }
   ],
   "source": [
    "Xt[(Xt['score']>=490)&(Xt['score']<=500)].is_fraud.mean()"
   ]
  },
  {
   "cell_type": "code",
   "execution_count": 101,
   "id": "acknowledged-incident",
   "metadata": {
    "ExecuteTime": {
     "end_time": "2021-03-20T14:28:03.239951Z",
     "start_time": "2021-03-20T14:28:03.234029Z"
    }
   },
   "outputs": [
    {
     "data": {
      "text/plain": [
       "count    7000.000000\n",
       "mean      603.047714\n",
       "std        62.449797\n",
       "min       408.000000\n",
       "25%       559.000000\n",
       "50%       605.000000\n",
       "75%       645.000000\n",
       "max       784.000000\n",
       "Name: score, dtype: float64"
      ]
     },
     "execution_count": 101,
     "metadata": {},
     "output_type": "execute_result"
    }
   ],
   "source": [
    "Xt.score.describe()"
   ]
  },
  {
   "cell_type": "code",
   "execution_count": 102,
   "id": "assigned-heath",
   "metadata": {
    "ExecuteTime": {
     "end_time": "2021-03-20T14:28:04.222590Z",
     "start_time": "2021-03-20T14:28:04.202585Z"
    }
   },
   "outputs": [
    {
     "data": {
      "text/plain": [
       "count    3000.000000\n",
       "mean      602.084667\n",
       "std        61.678302\n",
       "min       430.000000\n",
       "25%       558.000000\n",
       "50%       605.000000\n",
       "75%       644.000000\n",
       "max       797.000000\n",
       "Name: score, dtype: float64"
      ]
     },
     "execution_count": 102,
     "metadata": {},
     "output_type": "execute_result"
    }
   ],
   "source": [
    "Xv.score.describe()"
   ]
  },
  {
   "cell_type": "code",
   "execution_count": 126,
   "id": "pleased-destination",
   "metadata": {
    "ExecuteTime": {
     "end_time": "2021-03-20T14:48:55.538461Z",
     "start_time": "2021-03-20T14:48:55.484030Z"
    }
   },
   "outputs": [],
   "source": [
    "aux = Xt[['score']+um].copy()\n",
    "aux = aux.merge(yt,on=um,how='inner').assign(tipo='train')\n",
    "\n",
    "aux['r_score'] = pd.cut(aux['score'],\n",
    "                        bins=range(400,880,80),\n",
    "                        include_lowest=True).astype(str)\n",
    "\n",
    "aux.pivot_table(index=['r_score','tipo'],columns=tgt,values=um,aggfunc='count',fill_value=0).to_clipboard()"
   ]
  },
  {
   "cell_type": "code",
   "execution_count": 127,
   "id": "eligible-elizabeth",
   "metadata": {
    "ExecuteTime": {
     "end_time": "2021-03-20T14:49:18.626459Z",
     "start_time": "2021-03-20T14:49:18.553670Z"
    }
   },
   "outputs": [],
   "source": [
    "aux = Xv[['score']+um].copy()\n",
    "aux = aux.merge(yv,on=um,how='inner').assign(tipo='valid')\n",
    "\n",
    "aux['r_score'] = pd.cut(aux['score'],\n",
    "                        bins=range(400,880,80),\n",
    "                        include_lowest=True).astype(str)\n",
    "\n",
    "aux.pivot_table(index=['r_score','tipo'],columns=tgt,values=um,aggfunc='count',fill_value=0).to_clipboard()"
   ]
  },
  {
   "cell_type": "code",
   "execution_count": 129,
   "id": "brutal-thermal",
   "metadata": {
    "ExecuteTime": {
     "end_time": "2021-03-20T14:55:56.483690Z",
     "start_time": "2021-03-20T14:55:56.477626Z"
    }
   },
   "outputs": [
    {
     "data": {
      "text/plain": [
       "67.10994699999999"
      ]
     },
     "execution_count": 129,
     "metadata": {},
     "output_type": "execute_result"
    }
   ],
   "source": [
    "df['amt'].mean()"
   ]
  },
  {
   "cell_type": "code",
   "execution_count": 130,
   "id": "available-entrance",
   "metadata": {
    "ExecuteTime": {
     "end_time": "2021-03-20T14:59:23.613142Z",
     "start_time": "2021-03-20T14:59:23.603532Z"
    }
   },
   "outputs": [
    {
     "data": {
      "text/plain": [
       "(10000, 64)"
      ]
     },
     "execution_count": 130,
     "metadata": {},
     "output_type": "execute_result"
    }
   ],
   "source": [
    "df.shape"
   ]
  },
  {
   "cell_type": "code",
   "execution_count": 131,
   "id": "worth-frequency",
   "metadata": {
    "ExecuteTime": {
     "end_time": "2021-03-20T14:59:48.652202Z",
     "start_time": "2021-03-20T14:59:44.474181Z"
    }
   },
   "outputs": [
    {
     "data": {
      "text/plain": [
       "(1296675, 23)"
      ]
     },
     "execution_count": 131,
     "metadata": {},
     "output_type": "execute_result"
    }
   ],
   "source": [
    "pd.read_csv('/home/jose/Documentos/bd/cc_fraud/fraudTrain.csv').shape"
   ]
  },
  {
   "cell_type": "markdown",
   "id": "appreciated-stranger",
   "metadata": {},
   "source": [
    "## Reportes de Estabilidad y Desempeño"
   ]
  },
  {
   "cell_type": "code",
   "execution_count": null,
   "id": "southern-reading",
   "metadata": {},
   "outputs": [],
   "source": []
  },
  {
   "cell_type": "markdown",
   "id": "economic-promotion",
   "metadata": {},
   "source": [
    "### Estabilidad de la Población"
   ]
  },
  {
   "cell_type": "code",
   "execution_count": 152,
   "id": "blind-dividend",
   "metadata": {
    "ExecuteTime": {
     "end_time": "2021-03-20T15:27:03.520349Z",
     "start_time": "2021-03-20T15:27:03.505848Z"
    }
   },
   "outputs": [],
   "source": [
    "aux = Xv[['score']+um].merge(df[um+['trans_date_trans_time']],on=um,how='inner')\n",
    "aux['r_score'] = pd.cut(aux['score'],\n",
    "                        bins=range(400,880,80),\n",
    "                        include_lowest=True).astype(str)"
   ]
  },
  {
   "cell_type": "code",
   "execution_count": 153,
   "id": "interesting-laser",
   "metadata": {
    "ExecuteTime": {
     "end_time": "2021-03-20T15:27:04.129094Z",
     "start_time": "2021-03-20T15:27:04.117487Z"
    }
   },
   "outputs": [
    {
     "data": {
      "text/html": [
       "<div>\n",
       "<style scoped>\n",
       "    .dataframe tbody tr th:only-of-type {\n",
       "        vertical-align: middle;\n",
       "    }\n",
       "\n",
       "    .dataframe tbody tr th {\n",
       "        vertical-align: top;\n",
       "    }\n",
       "\n",
       "    .dataframe thead th {\n",
       "        text-align: right;\n",
       "    }\n",
       "</style>\n",
       "<table border=\"1\" class=\"dataframe\">\n",
       "  <thead>\n",
       "    <tr style=\"text-align: right;\">\n",
       "      <th></th>\n",
       "      <th>score</th>\n",
       "      <th>ID</th>\n",
       "      <th>trans_date_trans_time</th>\n",
       "      <th>r_score</th>\n",
       "    </tr>\n",
       "  </thead>\n",
       "  <tbody>\n",
       "    <tr>\n",
       "      <th>0</th>\n",
       "      <td>667.0</td>\n",
       "      <td>930115</td>\n",
       "      <td>2020-01-04 15:51:56</td>\n",
       "      <td>(640.0, 720.0]</td>\n",
       "    </tr>\n",
       "    <tr>\n",
       "      <th>1</th>\n",
       "      <td>622.0</td>\n",
       "      <td>1173391</td>\n",
       "      <td>2020-05-04 20:28:20</td>\n",
       "      <td>(560.0, 640.0]</td>\n",
       "    </tr>\n",
       "    <tr>\n",
       "      <th>2</th>\n",
       "      <td>609.0</td>\n",
       "      <td>1268160</td>\n",
       "      <td>2020-06-10 19:26:40</td>\n",
       "      <td>(560.0, 640.0]</td>\n",
       "    </tr>\n",
       "    <tr>\n",
       "      <th>3</th>\n",
       "      <td>529.0</td>\n",
       "      <td>541695</td>\n",
       "      <td>2019-08-19 21:37:29</td>\n",
       "      <td>(480.0, 560.0]</td>\n",
       "    </tr>\n",
       "    <tr>\n",
       "      <th>4</th>\n",
       "      <td>660.0</td>\n",
       "      <td>970183</td>\n",
       "      <td>2020-01-27 08:17:40</td>\n",
       "      <td>(640.0, 720.0]</td>\n",
       "    </tr>\n",
       "  </tbody>\n",
       "</table>\n",
       "</div>"
      ],
      "text/plain": [
       "   score       ID trans_date_trans_time         r_score\n",
       "0  667.0   930115   2020-01-04 15:51:56  (640.0, 720.0]\n",
       "1  622.0  1173391   2020-05-04 20:28:20  (560.0, 640.0]\n",
       "2  609.0  1268160   2020-06-10 19:26:40  (560.0, 640.0]\n",
       "3  529.0   541695   2019-08-19 21:37:29  (480.0, 560.0]\n",
       "4  660.0   970183   2020-01-27 08:17:40  (640.0, 720.0]"
      ]
     },
     "execution_count": 153,
     "metadata": {},
     "output_type": "execute_result"
    }
   ],
   "source": [
    "aux.head()"
   ]
  },
  {
   "cell_type": "code",
   "execution_count": 154,
   "id": "isolated-kinase",
   "metadata": {
    "ExecuteTime": {
     "end_time": "2021-03-20T15:27:06.755671Z",
     "start_time": "2021-03-20T15:27:06.752330Z"
    }
   },
   "outputs": [
    {
     "data": {
      "text/plain": [
       "(Timestamp('2019-01-01 01:23:50'), Timestamp('2020-06-21 12:01:35'))"
      ]
     },
     "execution_count": 154,
     "metadata": {},
     "output_type": "execute_result"
    }
   ],
   "source": [
    "aux['trans_date_trans_time'].min(),aux['trans_date_trans_time'].max()"
   ]
  },
  {
   "cell_type": "code",
   "execution_count": 155,
   "id": "caroline-nowhere",
   "metadata": {
    "ExecuteTime": {
     "end_time": "2021-03-20T15:27:07.524542Z",
     "start_time": "2021-03-20T15:27:07.503266Z"
    }
   },
   "outputs": [],
   "source": [
    "aux['mes'] = aux['trans_date_trans_time'].map(lambda x:x.strftime('%Y%m'))"
   ]
  },
  {
   "cell_type": "code",
   "execution_count": 156,
   "id": "diagnostic-imaging",
   "metadata": {
    "ExecuteTime": {
     "end_time": "2021-03-20T15:27:08.042603Z",
     "start_time": "2021-03-20T15:27:08.014556Z"
    }
   },
   "outputs": [],
   "source": [
    "aux[['mes','r_score']+um].groupby(['mes','r_score']).count().to_clipboard()"
   ]
  },
  {
   "cell_type": "markdown",
   "id": "changing-bottom",
   "metadata": {},
   "source": [
    "### Estabilidad de Características"
   ]
  },
  {
   "cell_type": "code",
   "execution_count": 176,
   "id": "subjective-daughter",
   "metadata": {
    "ExecuteTime": {
     "end_time": "2021-03-20T16:21:04.497614Z",
     "start_time": "2021-03-20T16:21:04.488937Z"
    }
   },
   "outputs": [],
   "source": [
    "aux = Xv[best+um].merge(df[um+['trans_date_trans_time']],on=um,how='inner')"
   ]
  },
  {
   "cell_type": "code",
   "execution_count": 177,
   "id": "raising-obligation",
   "metadata": {
    "ExecuteTime": {
     "end_time": "2021-03-20T16:21:04.937275Z",
     "start_time": "2021-03-20T16:21:04.918507Z"
    }
   },
   "outputs": [],
   "source": [
    "aux['mes'] = aux['trans_date_trans_time'].map(lambda x:x.strftime('%Y%m'))"
   ]
  },
  {
   "cell_type": "code",
   "execution_count": 180,
   "id": "opposite-citizen",
   "metadata": {
    "ExecuteTime": {
     "end_time": "2021-03-20T16:21:14.429296Z",
     "start_time": "2021-03-20T16:21:14.373160Z"
    }
   },
   "outputs": [],
   "source": [
    "l = []\n",
    "for c in best:\n",
    "    aux2 = aux[[c,'mes']+um].groupby([c,'mes']).count().reset_index()\n",
    "    aux2.rename(columns={c:'atributo'},inplace=True)\n",
    "    aux2.insert(0,'caracteristica',c)\n",
    "    l.append(aux2)"
   ]
  },
  {
   "cell_type": "code",
   "execution_count": 182,
   "id": "prospective-cleaners",
   "metadata": {
    "ExecuteTime": {
     "end_time": "2021-03-20T16:21:37.121732Z",
     "start_time": "2021-03-20T16:21:37.089157Z"
    }
   },
   "outputs": [],
   "source": [
    "pd.concat(l,ignore_index=True).to_clipboard()"
   ]
  },
  {
   "cell_type": "markdown",
   "id": "romance-description",
   "metadata": {},
   "source": [
    "### Poder predictivo"
   ]
  },
  {
   "cell_type": "code",
   "execution_count": 194,
   "id": "continued-penguin",
   "metadata": {
    "ExecuteTime": {
     "end_time": "2021-03-20T16:48:03.225100Z",
     "start_time": "2021-03-20T16:48:03.185013Z"
    }
   },
   "outputs": [],
   "source": [
    "aux = Xt[['score']+um].merge(df[um+['trans_date_trans_time',tgt]],on=um,how='inner')\n",
    "aux['r_score'] = pd.cut(aux['score'],\n",
    "                        bins=range(400,840,40),\n",
    "                        include_lowest=True).astype(str)\n",
    "aux['mes'] = aux['trans_date_trans_time'].map(lambda x:x.strftime('%Y%m'))"
   ]
  },
  {
   "cell_type": "code",
   "execution_count": 195,
   "id": "moved-magic",
   "metadata": {
    "ExecuteTime": {
     "end_time": "2021-03-20T16:48:03.673831Z",
     "start_time": "2021-03-20T16:48:03.656584Z"
    }
   },
   "outputs": [
    {
     "data": {
      "text/html": [
       "<div>\n",
       "<style scoped>\n",
       "    .dataframe tbody tr th:only-of-type {\n",
       "        vertical-align: middle;\n",
       "    }\n",
       "\n",
       "    .dataframe tbody tr th {\n",
       "        vertical-align: top;\n",
       "    }\n",
       "\n",
       "    .dataframe thead th {\n",
       "        text-align: right;\n",
       "    }\n",
       "</style>\n",
       "<table border=\"1\" class=\"dataframe\">\n",
       "  <thead>\n",
       "    <tr style=\"text-align: right;\">\n",
       "      <th></th>\n",
       "      <th>score</th>\n",
       "      <th>ID</th>\n",
       "      <th>trans_date_trans_time</th>\n",
       "      <th>is_fraud</th>\n",
       "      <th>r_score</th>\n",
       "      <th>mes</th>\n",
       "    </tr>\n",
       "  </thead>\n",
       "  <tbody>\n",
       "    <tr>\n",
       "      <th>0</th>\n",
       "      <td>560.0</td>\n",
       "      <td>43897</td>\n",
       "      <td>2019-01-27 06:58:24</td>\n",
       "      <td>0</td>\n",
       "      <td>(520.0, 560.0]</td>\n",
       "      <td>201901</td>\n",
       "    </tr>\n",
       "    <tr>\n",
       "      <th>1</th>\n",
       "      <td>649.0</td>\n",
       "      <td>1185149</td>\n",
       "      <td>2020-05-10 12:40:17</td>\n",
       "      <td>0</td>\n",
       "      <td>(640.0, 680.0]</td>\n",
       "      <td>202005</td>\n",
       "    </tr>\n",
       "    <tr>\n",
       "      <th>2</th>\n",
       "      <td>530.0</td>\n",
       "      <td>39567</td>\n",
       "      <td>2019-01-24 02:29:49</td>\n",
       "      <td>0</td>\n",
       "      <td>(520.0, 560.0]</td>\n",
       "      <td>201901</td>\n",
       "    </tr>\n",
       "    <tr>\n",
       "      <th>3</th>\n",
       "      <td>583.0</td>\n",
       "      <td>330434</td>\n",
       "      <td>2019-06-06 16:41:03</td>\n",
       "      <td>0</td>\n",
       "      <td>(560.0, 600.0]</td>\n",
       "      <td>201906</td>\n",
       "    </tr>\n",
       "    <tr>\n",
       "      <th>4</th>\n",
       "      <td>625.0</td>\n",
       "      <td>578850</td>\n",
       "      <td>2019-09-02 07:14:31</td>\n",
       "      <td>0</td>\n",
       "      <td>(600.0, 640.0]</td>\n",
       "      <td>201909</td>\n",
       "    </tr>\n",
       "    <tr>\n",
       "      <th>...</th>\n",
       "      <td>...</td>\n",
       "      <td>...</td>\n",
       "      <td>...</td>\n",
       "      <td>...</td>\n",
       "      <td>...</td>\n",
       "      <td>...</td>\n",
       "    </tr>\n",
       "    <tr>\n",
       "      <th>6995</th>\n",
       "      <td>516.0</td>\n",
       "      <td>778698</td>\n",
       "      <td>2019-11-30 01:38:35</td>\n",
       "      <td>0</td>\n",
       "      <td>(480.0, 520.0]</td>\n",
       "      <td>201911</td>\n",
       "    </tr>\n",
       "    <tr>\n",
       "      <th>6996</th>\n",
       "      <td>530.0</td>\n",
       "      <td>1174565</td>\n",
       "      <td>2020-05-05 06:32:58</td>\n",
       "      <td>0</td>\n",
       "      <td>(520.0, 560.0]</td>\n",
       "      <td>202005</td>\n",
       "    </tr>\n",
       "    <tr>\n",
       "      <th>6997</th>\n",
       "      <td>567.0</td>\n",
       "      <td>151345</td>\n",
       "      <td>2019-03-22 21:37:09</td>\n",
       "      <td>0</td>\n",
       "      <td>(560.0, 600.0]</td>\n",
       "      <td>201903</td>\n",
       "    </tr>\n",
       "    <tr>\n",
       "      <th>6998</th>\n",
       "      <td>579.0</td>\n",
       "      <td>245702</td>\n",
       "      <td>2019-05-03 13:13:12</td>\n",
       "      <td>0</td>\n",
       "      <td>(560.0, 600.0]</td>\n",
       "      <td>201905</td>\n",
       "    </tr>\n",
       "    <tr>\n",
       "      <th>6999</th>\n",
       "      <td>629.0</td>\n",
       "      <td>481590</td>\n",
       "      <td>2019-07-29 19:00:00</td>\n",
       "      <td>0</td>\n",
       "      <td>(600.0, 640.0]</td>\n",
       "      <td>201907</td>\n",
       "    </tr>\n",
       "  </tbody>\n",
       "</table>\n",
       "<p>7000 rows × 6 columns</p>\n",
       "</div>"
      ],
      "text/plain": [
       "      score       ID trans_date_trans_time  is_fraud         r_score     mes\n",
       "0     560.0    43897   2019-01-27 06:58:24         0  (520.0, 560.0]  201901\n",
       "1     649.0  1185149   2020-05-10 12:40:17         0  (640.0, 680.0]  202005\n",
       "2     530.0    39567   2019-01-24 02:29:49         0  (520.0, 560.0]  201901\n",
       "3     583.0   330434   2019-06-06 16:41:03         0  (560.0, 600.0]  201906\n",
       "4     625.0   578850   2019-09-02 07:14:31         0  (600.0, 640.0]  201909\n",
       "...     ...      ...                   ...       ...             ...     ...\n",
       "6995  516.0   778698   2019-11-30 01:38:35         0  (480.0, 520.0]  201911\n",
       "6996  530.0  1174565   2020-05-05 06:32:58         0  (520.0, 560.0]  202005\n",
       "6997  567.0   151345   2019-03-22 21:37:09         0  (560.0, 600.0]  201903\n",
       "6998  579.0   245702   2019-05-03 13:13:12         0  (560.0, 600.0]  201905\n",
       "6999  629.0   481590   2019-07-29 19:00:00         0  (600.0, 640.0]  201907\n",
       "\n",
       "[7000 rows x 6 columns]"
      ]
     },
     "execution_count": 195,
     "metadata": {},
     "output_type": "execute_result"
    }
   ],
   "source": [
    "aux"
   ]
  },
  {
   "cell_type": "code",
   "execution_count": 196,
   "id": "equal-think",
   "metadata": {
    "ExecuteTime": {
     "end_time": "2021-03-20T16:48:04.613937Z",
     "start_time": "2021-03-20T16:48:04.567865Z"
    }
   },
   "outputs": [],
   "source": [
    "aux[['r_score','mes',tgt]+um].groupby(['r_score','mes',tgt]).count().to_clipboard()"
   ]
  },
  {
   "cell_type": "code",
   "execution_count": null,
   "id": "concerned-suffering",
   "metadata": {},
   "outputs": [],
   "source": []
  },
  {
   "cell_type": "markdown",
   "id": "convenient-settle",
   "metadata": {},
   "source": [
    "### Poder de Características"
   ]
  },
  {
   "cell_type": "code",
   "execution_count": 197,
   "id": "accomplished-knitting",
   "metadata": {
    "ExecuteTime": {
     "end_time": "2021-03-20T16:49:34.489735Z",
     "start_time": "2021-03-20T16:49:34.478360Z"
    }
   },
   "outputs": [],
   "source": [
    "aux = Xv[best+um].merge(df[um+['trans_date_trans_time',tgt]],on=um,how='inner')"
   ]
  },
  {
   "cell_type": "code",
   "execution_count": 198,
   "id": "brutal-concern",
   "metadata": {
    "ExecuteTime": {
     "end_time": "2021-03-20T16:49:35.174998Z",
     "start_time": "2021-03-20T16:49:35.143585Z"
    }
   },
   "outputs": [],
   "source": [
    "aux['mes'] = aux['trans_date_trans_time'].map(lambda x:x.strftime('%Y%m'))"
   ]
  },
  {
   "cell_type": "code",
   "execution_count": 199,
   "id": "patient-remedy",
   "metadata": {
    "ExecuteTime": {
     "end_time": "2021-03-20T16:49:51.096551Z",
     "start_time": "2021-03-20T16:49:51.044462Z"
    }
   },
   "outputs": [],
   "source": [
    "l = []\n",
    "for c in best:\n",
    "    aux2 = aux[[c,'mes',tgt]+um].groupby([c,'mes',tgt]).count().reset_index()\n",
    "    aux2.rename(columns={c:'atributo'},inplace=True)\n",
    "    aux2.insert(0,'caracteristica',c)\n",
    "    l.append(aux2)"
   ]
  },
  {
   "cell_type": "code",
   "execution_count": 201,
   "id": "metallic-hollywood",
   "metadata": {
    "ExecuteTime": {
     "end_time": "2021-03-20T16:50:09.752456Z",
     "start_time": "2021-03-20T16:50:09.718276Z"
    }
   },
   "outputs": [],
   "source": [
    "pd.concat(l,ignore_index=True).to_clipboard(index=False)"
   ]
  },
  {
   "cell_type": "code",
   "execution_count": null,
   "id": "smooth-pleasure",
   "metadata": {},
   "outputs": [],
   "source": []
  }
 ],
 "metadata": {
  "kernelspec": {
   "display_name": "ins",
   "language": "python",
   "name": "ins"
  },
  "language_info": {
   "codemirror_mode": {
    "name": "ipython",
    "version": 3
   },
   "file_extension": ".py",
   "mimetype": "text/x-python",
   "name": "python",
   "nbconvert_exporter": "python",
   "pygments_lexer": "ipython3",
   "version": "3.8.5"
  },
  "toc": {
   "base_numbering": 1,
   "nav_menu": {},
   "number_sections": true,
   "sideBar": true,
   "skip_h1_title": false,
   "title_cell": "Table of Contents",
   "title_sidebar": "Contents",
   "toc_cell": false,
   "toc_position": {},
   "toc_section_display": true,
   "toc_window_display": true
  }
 },
 "nbformat": 4,
 "nbformat_minor": 5
}
